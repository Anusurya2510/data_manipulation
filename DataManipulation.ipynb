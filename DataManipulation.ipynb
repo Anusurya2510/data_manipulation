{
  "nbformat": 4,
  "nbformat_minor": 0,
  "metadata": {
    "colab": {
      "provenance": []
    },
    "kernelspec": {
      "name": "python3",
      "display_name": "Python 3"
    },
    "language_info": {
      "name": "python"
    }
  },
  "cells": [
    {
      "cell_type": "code",
      "execution_count": null,
      "metadata": {
        "colab": {
          "base_uri": "https://localhost:8080/"
        },
        "id": "DjSI05nv7oG2",
        "outputId": "6c480f60-19ba-454b-c64a-37a7bd273d69"
      },
      "outputs": [
        {
          "output_type": "stream",
          "name": "stdout",
          "text": [
            "a    1\n",
            "b    3\n",
            "c    5\n",
            "d    7\n",
            "dtype: int64\n"
          ]
        }
      ],
      "source": [
        "#Series\n",
        "import pandas as pd\n",
        "s = pd.Series([1, 3, 5, 7], index=['a', 'b', 'c', 'd'])\n",
        "print(s)"
      ]
    },
    {
      "cell_type": "code",
      "source": [
        "#DataFrame\n",
        "data = {\n",
        "    \"ProductID\": [101, 102, 103],\n",
        "    \"SalesAmount\": [200, 150, 400],\n",
        "    \"Region\": [\"North\", \"South\", \"West\"]\n",
        "}\n",
        "df = pd.DataFrame(data)\n",
        "print(df)"
      ],
      "metadata": {
        "colab": {
          "base_uri": "https://localhost:8080/"
        },
        "id": "LOH8FWwH-FDK",
        "outputId": "2377765b-4ff8-4b4a-d3cd-659671ce88fa"
      },
      "execution_count": null,
      "outputs": [
        {
          "output_type": "stream",
          "name": "stdout",
          "text": [
            "   ProductID  SalesAmount Region\n",
            "0        101          200  North\n",
            "1        102          150  South\n",
            "2        103          400   West\n"
          ]
        }
      ]
    },
    {
      "cell_type": "code",
      "source": [
        "import pandas as pd\n",
        "\n",
        "# Load a CSV file into a DataFrame\n",
        "df = pd.read_csv(\"sales-data.csv\")\n",
        "\n",
        "# Loading CSV with specific delimiter and data types\n",
        "df = pd.read_csv(\"sales-data.csv\", sep=\",\", dtype={\"SalesAmount\": float})\n",
        "\n",
        "# Inspect the first few rows of the DataFrame\n",
        "print(df.head())"
      ],
      "metadata": {
        "colab": {
          "base_uri": "https://localhost:8080/"
        },
        "id": "MBLbhC1--Lad",
        "outputId": "37c1f1fe-4a14-45ce-caa6-06bb0c80b701"
      },
      "execution_count": null,
      "outputs": [
        {
          "output_type": "stream",
          "name": "stdout",
          "text": [
            "         Date  ProductID  SalesAmount Region\n",
            "0  2024-01-01        101        200.0  North\n",
            "1  2024-01-02        102        150.0  South\n",
            "2  2024-01-03        103        400.0   West\n",
            "3  2024-01-04        104        300.0   East\n",
            "4  2024-01-05        105        250.0  North\n"
          ]
        }
      ]
    },
    {
      "cell_type": "code",
      "source": [
        "import pandas as pd\n",
        "\n",
        "# Creating a Pandas Series from a list\n",
        "sales = pd.Series([200, 150, 400, 300], index=[\"2024-01-01\", \"2024-01-02\", \"2024-01-03\", \"2024-01-04\"])\n",
        "print(sales)"
      ],
      "metadata": {
        "colab": {
          "base_uri": "https://localhost:8080/"
        },
        "id": "W7Sd2VyiB1dO",
        "outputId": "c6b85cda-e162-41ad-ecb1-8aead49ccf06"
      },
      "execution_count": null,
      "outputs": [
        {
          "output_type": "stream",
          "name": "stdout",
          "text": [
            "2024-01-01    200\n",
            "2024-01-02    150\n",
            "2024-01-03    400\n",
            "2024-01-04    300\n",
            "dtype: int64\n"
          ]
        }
      ]
    },
    {
      "cell_type": "code",
      "source": [
        "# Load the file in chunks of 10,000 rows\n",
        "chunk_size = 10000\n",
        "for chunk in pd.read_csv('sales-data.csv', chunksize=chunk_size):\n",
        "    # Process each chunk\n",
        "    process(chunk)"
      ],
      "metadata": {
        "colab": {
          "base_uri": "https://localhost:8080/",
          "height": 176
        },
        "id": "_wCeSDRwC_4X",
        "outputId": "b3f9a78a-8fbe-4b08-db62-b2df86996cdf"
      },
      "execution_count": null,
      "outputs": [
        {
          "output_type": "error",
          "ename": "NameError",
          "evalue": "name 'process' is not defined",
          "traceback": [
            "\u001b[0;31m---------------------------------------------------------------------------\u001b[0m",
            "\u001b[0;31mNameError\u001b[0m                                 Traceback (most recent call last)",
            "\u001b[0;32m<ipython-input-7-a107171f3ef7>\u001b[0m in \u001b[0;36m<cell line: 3>\u001b[0;34m()\u001b[0m\n\u001b[1;32m      3\u001b[0m \u001b[0;32mfor\u001b[0m \u001b[0mchunk\u001b[0m \u001b[0;32min\u001b[0m \u001b[0mpd\u001b[0m\u001b[0;34m.\u001b[0m\u001b[0mread_csv\u001b[0m\u001b[0;34m(\u001b[0m\u001b[0;34m'sales-data.csv'\u001b[0m\u001b[0;34m,\u001b[0m \u001b[0mchunksize\u001b[0m\u001b[0;34m=\u001b[0m\u001b[0mchunk_size\u001b[0m\u001b[0;34m)\u001b[0m\u001b[0;34m:\u001b[0m\u001b[0;34m\u001b[0m\u001b[0;34m\u001b[0m\u001b[0m\n\u001b[1;32m      4\u001b[0m     \u001b[0;31m# Process each chunk\u001b[0m\u001b[0;34m\u001b[0m\u001b[0;34m\u001b[0m\u001b[0m\n\u001b[0;32m----> 5\u001b[0;31m     \u001b[0mprocess\u001b[0m\u001b[0;34m(\u001b[0m\u001b[0mchunk\u001b[0m\u001b[0;34m)\u001b[0m\u001b[0;34m\u001b[0m\u001b[0;34m\u001b[0m\u001b[0m\n\u001b[0m",
            "\u001b[0;31mNameError\u001b[0m: name 'process' is not defined"
          ]
        }
      ]
    },
    {
      "cell_type": "code",
      "source": [
        "# Load a compressed CSV file\n",
        "df = pd.read_csv('sales_data.csv.gz', compression='gzip')"
      ],
      "metadata": {
        "id": "iolW9n5GRnNj"
      },
      "execution_count": null,
      "outputs": []
    },
    {
      "cell_type": "code",
      "source": [
        "# Load an Excel file into a DataFrame\n",
        "df = pd.read_excel('sales_data.xlsx', sheet_name='Sheet1')\n",
        "# Load all sheets into a dictionary of DataFrames\n",
        "all_sheets = pd.read_excel('sales_data.xlsx', sheet_name=None)\n",
        "# Load multiple specific sheets\n",
        "df_sheets = pd.read_excel('sales_data.xlsx', sheet_name=['Sheet1', 'Sheet2'])\n",
        "# Fill missing values after loading an Excel file with merged cells\n",
        "# df.fillna(method='ffill', inplace=True)\n",
        "all_sheets"
      ],
      "metadata": {
        "colab": {
          "base_uri": "https://localhost:8080/",
          "height": 363
        },
        "id": "oNfVD6NLFTqN",
        "outputId": "34c3acf6-4d4b-4867-c7be-5fc2e2ff4188"
      },
      "execution_count": null,
      "outputs": [
        {
          "output_type": "execute_result",
          "data": {
            "text/plain": [
              "         Date  ProductID  SalesAmount Region\n",
              "0  2024-01-01        101        200.0  North\n",
              "1  2024-01-02        102        150.0  South\n",
              "2  2024-01-03        103        400.0   West\n",
              "3  2024-01-04        104        300.0   East\n",
              "4  2024-01-05        105        250.0  North\n",
              "5  2024-01-06        106        350.0   West\n",
              "6  2024-01-07        107        275.0  South\n",
              "7  2024-01-08        108        425.0  North\n",
              "8  2024-01-09        109        180.0   East\n",
              "9  2024-01-10        110        300.0   West"
            ],
            "text/html": [
              "\n",
              "  <div id=\"df-9d106f84-65de-487b-bec8-b911aefbb458\" class=\"colab-df-container\">\n",
              "    <div>\n",
              "<style scoped>\n",
              "    .dataframe tbody tr th:only-of-type {\n",
              "        vertical-align: middle;\n",
              "    }\n",
              "\n",
              "    .dataframe tbody tr th {\n",
              "        vertical-align: top;\n",
              "    }\n",
              "\n",
              "    .dataframe thead th {\n",
              "        text-align: right;\n",
              "    }\n",
              "</style>\n",
              "<table border=\"1\" class=\"dataframe\">\n",
              "  <thead>\n",
              "    <tr style=\"text-align: right;\">\n",
              "      <th></th>\n",
              "      <th>Date</th>\n",
              "      <th>ProductID</th>\n",
              "      <th>SalesAmount</th>\n",
              "      <th>Region</th>\n",
              "    </tr>\n",
              "  </thead>\n",
              "  <tbody>\n",
              "    <tr>\n",
              "      <th>0</th>\n",
              "      <td>2024-01-01</td>\n",
              "      <td>101</td>\n",
              "      <td>200.0</td>\n",
              "      <td>North</td>\n",
              "    </tr>\n",
              "    <tr>\n",
              "      <th>1</th>\n",
              "      <td>2024-01-02</td>\n",
              "      <td>102</td>\n",
              "      <td>150.0</td>\n",
              "      <td>South</td>\n",
              "    </tr>\n",
              "    <tr>\n",
              "      <th>2</th>\n",
              "      <td>2024-01-03</td>\n",
              "      <td>103</td>\n",
              "      <td>400.0</td>\n",
              "      <td>West</td>\n",
              "    </tr>\n",
              "    <tr>\n",
              "      <th>3</th>\n",
              "      <td>2024-01-04</td>\n",
              "      <td>104</td>\n",
              "      <td>300.0</td>\n",
              "      <td>East</td>\n",
              "    </tr>\n",
              "    <tr>\n",
              "      <th>4</th>\n",
              "      <td>2024-01-05</td>\n",
              "      <td>105</td>\n",
              "      <td>250.0</td>\n",
              "      <td>North</td>\n",
              "    </tr>\n",
              "    <tr>\n",
              "      <th>5</th>\n",
              "      <td>2024-01-06</td>\n",
              "      <td>106</td>\n",
              "      <td>350.0</td>\n",
              "      <td>West</td>\n",
              "    </tr>\n",
              "    <tr>\n",
              "      <th>6</th>\n",
              "      <td>2024-01-07</td>\n",
              "      <td>107</td>\n",
              "      <td>275.0</td>\n",
              "      <td>South</td>\n",
              "    </tr>\n",
              "    <tr>\n",
              "      <th>7</th>\n",
              "      <td>2024-01-08</td>\n",
              "      <td>108</td>\n",
              "      <td>425.0</td>\n",
              "      <td>North</td>\n",
              "    </tr>\n",
              "    <tr>\n",
              "      <th>8</th>\n",
              "      <td>2024-01-09</td>\n",
              "      <td>109</td>\n",
              "      <td>180.0</td>\n",
              "      <td>East</td>\n",
              "    </tr>\n",
              "    <tr>\n",
              "      <th>9</th>\n",
              "      <td>2024-01-10</td>\n",
              "      <td>110</td>\n",
              "      <td>300.0</td>\n",
              "      <td>West</td>\n",
              "    </tr>\n",
              "  </tbody>\n",
              "</table>\n",
              "</div>\n",
              "    <div class=\"colab-df-buttons\">\n",
              "\n",
              "  <div class=\"colab-df-container\">\n",
              "    <button class=\"colab-df-convert\" onclick=\"convertToInteractive('df-9d106f84-65de-487b-bec8-b911aefbb458')\"\n",
              "            title=\"Convert this dataframe to an interactive table.\"\n",
              "            style=\"display:none;\">\n",
              "\n",
              "  <svg xmlns=\"http://www.w3.org/2000/svg\" height=\"24px\" viewBox=\"0 -960 960 960\">\n",
              "    <path d=\"M120-120v-720h720v720H120Zm60-500h600v-160H180v160Zm220 220h160v-160H400v160Zm0 220h160v-160H400v160ZM180-400h160v-160H180v160Zm440 0h160v-160H620v160ZM180-180h160v-160H180v160Zm440 0h160v-160H620v160Z\"/>\n",
              "  </svg>\n",
              "    </button>\n",
              "\n",
              "  <style>\n",
              "    .colab-df-container {\n",
              "      display:flex;\n",
              "      gap: 12px;\n",
              "    }\n",
              "\n",
              "    .colab-df-convert {\n",
              "      background-color: #E8F0FE;\n",
              "      border: none;\n",
              "      border-radius: 50%;\n",
              "      cursor: pointer;\n",
              "      display: none;\n",
              "      fill: #1967D2;\n",
              "      height: 32px;\n",
              "      padding: 0 0 0 0;\n",
              "      width: 32px;\n",
              "    }\n",
              "\n",
              "    .colab-df-convert:hover {\n",
              "      background-color: #E2EBFA;\n",
              "      box-shadow: 0px 1px 2px rgba(60, 64, 67, 0.3), 0px 1px 3px 1px rgba(60, 64, 67, 0.15);\n",
              "      fill: #174EA6;\n",
              "    }\n",
              "\n",
              "    .colab-df-buttons div {\n",
              "      margin-bottom: 4px;\n",
              "    }\n",
              "\n",
              "    [theme=dark] .colab-df-convert {\n",
              "      background-color: #3B4455;\n",
              "      fill: #D2E3FC;\n",
              "    }\n",
              "\n",
              "    [theme=dark] .colab-df-convert:hover {\n",
              "      background-color: #434B5C;\n",
              "      box-shadow: 0px 1px 3px 1px rgba(0, 0, 0, 0.15);\n",
              "      filter: drop-shadow(0px 1px 2px rgba(0, 0, 0, 0.3));\n",
              "      fill: #FFFFFF;\n",
              "    }\n",
              "  </style>\n",
              "\n",
              "    <script>\n",
              "      const buttonEl =\n",
              "        document.querySelector('#df-9d106f84-65de-487b-bec8-b911aefbb458 button.colab-df-convert');\n",
              "      buttonEl.style.display =\n",
              "        google.colab.kernel.accessAllowed ? 'block' : 'none';\n",
              "\n",
              "      async function convertToInteractive(key) {\n",
              "        const element = document.querySelector('#df-9d106f84-65de-487b-bec8-b911aefbb458');\n",
              "        const dataTable =\n",
              "          await google.colab.kernel.invokeFunction('convertToInteractive',\n",
              "                                                    [key], {});\n",
              "        if (!dataTable) return;\n",
              "\n",
              "        const docLinkHtml = 'Like what you see? Visit the ' +\n",
              "          '<a target=\"_blank\" href=https://colab.research.google.com/notebooks/data_table.ipynb>data table notebook</a>'\n",
              "          + ' to learn more about interactive tables.';\n",
              "        element.innerHTML = '';\n",
              "        dataTable['output_type'] = 'display_data';\n",
              "        await google.colab.output.renderOutput(dataTable, element);\n",
              "        const docLink = document.createElement('div');\n",
              "        docLink.innerHTML = docLinkHtml;\n",
              "        element.appendChild(docLink);\n",
              "      }\n",
              "    </script>\n",
              "  </div>\n",
              "\n",
              "\n",
              "<div id=\"df-a5d724b7-cfc1-402c-a5c2-c52d6fdc5d78\">\n",
              "  <button class=\"colab-df-quickchart\" onclick=\"quickchart('df-a5d724b7-cfc1-402c-a5c2-c52d6fdc5d78')\"\n",
              "            title=\"Suggest charts\"\n",
              "            style=\"display:none;\">\n",
              "\n",
              "<svg xmlns=\"http://www.w3.org/2000/svg\" height=\"24px\"viewBox=\"0 0 24 24\"\n",
              "     width=\"24px\">\n",
              "    <g>\n",
              "        <path d=\"M19 3H5c-1.1 0-2 .9-2 2v14c0 1.1.9 2 2 2h14c1.1 0 2-.9 2-2V5c0-1.1-.9-2-2-2zM9 17H7v-7h2v7zm4 0h-2V7h2v10zm4 0h-2v-4h2v4z\"/>\n",
              "    </g>\n",
              "</svg>\n",
              "  </button>\n",
              "\n",
              "<style>\n",
              "  .colab-df-quickchart {\n",
              "      --bg-color: #E8F0FE;\n",
              "      --fill-color: #1967D2;\n",
              "      --hover-bg-color: #E2EBFA;\n",
              "      --hover-fill-color: #174EA6;\n",
              "      --disabled-fill-color: #AAA;\n",
              "      --disabled-bg-color: #DDD;\n",
              "  }\n",
              "\n",
              "  [theme=dark] .colab-df-quickchart {\n",
              "      --bg-color: #3B4455;\n",
              "      --fill-color: #D2E3FC;\n",
              "      --hover-bg-color: #434B5C;\n",
              "      --hover-fill-color: #FFFFFF;\n",
              "      --disabled-bg-color: #3B4455;\n",
              "      --disabled-fill-color: #666;\n",
              "  }\n",
              "\n",
              "  .colab-df-quickchart {\n",
              "    background-color: var(--bg-color);\n",
              "    border: none;\n",
              "    border-radius: 50%;\n",
              "    cursor: pointer;\n",
              "    display: none;\n",
              "    fill: var(--fill-color);\n",
              "    height: 32px;\n",
              "    padding: 0;\n",
              "    width: 32px;\n",
              "  }\n",
              "\n",
              "  .colab-df-quickchart:hover {\n",
              "    background-color: var(--hover-bg-color);\n",
              "    box-shadow: 0 1px 2px rgba(60, 64, 67, 0.3), 0 1px 3px 1px rgba(60, 64, 67, 0.15);\n",
              "    fill: var(--button-hover-fill-color);\n",
              "  }\n",
              "\n",
              "  .colab-df-quickchart-complete:disabled,\n",
              "  .colab-df-quickchart-complete:disabled:hover {\n",
              "    background-color: var(--disabled-bg-color);\n",
              "    fill: var(--disabled-fill-color);\n",
              "    box-shadow: none;\n",
              "  }\n",
              "\n",
              "  .colab-df-spinner {\n",
              "    border: 2px solid var(--fill-color);\n",
              "    border-color: transparent;\n",
              "    border-bottom-color: var(--fill-color);\n",
              "    animation:\n",
              "      spin 1s steps(1) infinite;\n",
              "  }\n",
              "\n",
              "  @keyframes spin {\n",
              "    0% {\n",
              "      border-color: transparent;\n",
              "      border-bottom-color: var(--fill-color);\n",
              "      border-left-color: var(--fill-color);\n",
              "    }\n",
              "    20% {\n",
              "      border-color: transparent;\n",
              "      border-left-color: var(--fill-color);\n",
              "      border-top-color: var(--fill-color);\n",
              "    }\n",
              "    30% {\n",
              "      border-color: transparent;\n",
              "      border-left-color: var(--fill-color);\n",
              "      border-top-color: var(--fill-color);\n",
              "      border-right-color: var(--fill-color);\n",
              "    }\n",
              "    40% {\n",
              "      border-color: transparent;\n",
              "      border-right-color: var(--fill-color);\n",
              "      border-top-color: var(--fill-color);\n",
              "    }\n",
              "    60% {\n",
              "      border-color: transparent;\n",
              "      border-right-color: var(--fill-color);\n",
              "    }\n",
              "    80% {\n",
              "      border-color: transparent;\n",
              "      border-right-color: var(--fill-color);\n",
              "      border-bottom-color: var(--fill-color);\n",
              "    }\n",
              "    90% {\n",
              "      border-color: transparent;\n",
              "      border-bottom-color: var(--fill-color);\n",
              "    }\n",
              "  }\n",
              "</style>\n",
              "\n",
              "  <script>\n",
              "    async function quickchart(key) {\n",
              "      const quickchartButtonEl =\n",
              "        document.querySelector('#' + key + ' button');\n",
              "      quickchartButtonEl.disabled = true;  // To prevent multiple clicks.\n",
              "      quickchartButtonEl.classList.add('colab-df-spinner');\n",
              "      try {\n",
              "        const charts = await google.colab.kernel.invokeFunction(\n",
              "            'suggestCharts', [key], {});\n",
              "      } catch (error) {\n",
              "        console.error('Error during call to suggestCharts:', error);\n",
              "      }\n",
              "      quickchartButtonEl.classList.remove('colab-df-spinner');\n",
              "      quickchartButtonEl.classList.add('colab-df-quickchart-complete');\n",
              "    }\n",
              "    (() => {\n",
              "      let quickchartButtonEl =\n",
              "        document.querySelector('#df-a5d724b7-cfc1-402c-a5c2-c52d6fdc5d78 button');\n",
              "      quickchartButtonEl.style.display =\n",
              "        google.colab.kernel.accessAllowed ? 'block' : 'none';\n",
              "    })();\n",
              "  </script>\n",
              "</div>\n",
              "\n",
              "  <div id=\"id_d5f0220b-774d-4cfc-9067-809b87e315ad\">\n",
              "    <style>\n",
              "      .colab-df-generate {\n",
              "        background-color: #E8F0FE;\n",
              "        border: none;\n",
              "        border-radius: 50%;\n",
              "        cursor: pointer;\n",
              "        display: none;\n",
              "        fill: #1967D2;\n",
              "        height: 32px;\n",
              "        padding: 0 0 0 0;\n",
              "        width: 32px;\n",
              "      }\n",
              "\n",
              "      .colab-df-generate:hover {\n",
              "        background-color: #E2EBFA;\n",
              "        box-shadow: 0px 1px 2px rgba(60, 64, 67, 0.3), 0px 1px 3px 1px rgba(60, 64, 67, 0.15);\n",
              "        fill: #174EA6;\n",
              "      }\n",
              "\n",
              "      [theme=dark] .colab-df-generate {\n",
              "        background-color: #3B4455;\n",
              "        fill: #D2E3FC;\n",
              "      }\n",
              "\n",
              "      [theme=dark] .colab-df-generate:hover {\n",
              "        background-color: #434B5C;\n",
              "        box-shadow: 0px 1px 3px 1px rgba(0, 0, 0, 0.15);\n",
              "        filter: drop-shadow(0px 1px 2px rgba(0, 0, 0, 0.3));\n",
              "        fill: #FFFFFF;\n",
              "      }\n",
              "    </style>\n",
              "    <button class=\"colab-df-generate\" onclick=\"generateWithVariable('df')\"\n",
              "            title=\"Generate code using this dataframe.\"\n",
              "            style=\"display:none;\">\n",
              "\n",
              "  <svg xmlns=\"http://www.w3.org/2000/svg\" height=\"24px\"viewBox=\"0 0 24 24\"\n",
              "       width=\"24px\">\n",
              "    <path d=\"M7,19H8.4L18.45,9,17,7.55,7,17.6ZM5,21V16.75L18.45,3.32a2,2,0,0,1,2.83,0l1.4,1.43a1.91,1.91,0,0,1,.58,1.4,1.91,1.91,0,0,1-.58,1.4L9.25,21ZM18.45,9,17,7.55Zm-12,3A5.31,5.31,0,0,0,4.9,8.1,5.31,5.31,0,0,0,1,6.5,5.31,5.31,0,0,0,4.9,4.9,5.31,5.31,0,0,0,6.5,1,5.31,5.31,0,0,0,8.1,4.9,5.31,5.31,0,0,0,12,6.5,5.46,5.46,0,0,0,6.5,12Z\"/>\n",
              "  </svg>\n",
              "    </button>\n",
              "    <script>\n",
              "      (() => {\n",
              "      const buttonEl =\n",
              "        document.querySelector('#id_d5f0220b-774d-4cfc-9067-809b87e315ad button.colab-df-generate');\n",
              "      buttonEl.style.display =\n",
              "        google.colab.kernel.accessAllowed ? 'block' : 'none';\n",
              "\n",
              "      buttonEl.onclick = () => {\n",
              "        google.colab.notebook.generateWithVariable('df');\n",
              "      }\n",
              "      })();\n",
              "    </script>\n",
              "  </div>\n",
              "\n",
              "    </div>\n",
              "  </div>\n"
            ],
            "application/vnd.google.colaboratory.intrinsic+json": {
              "type": "dataframe",
              "variable_name": "df",
              "summary": "{\n  \"name\": \"df\",\n  \"rows\": 10,\n  \"fields\": [\n    {\n      \"column\": \"Date\",\n      \"properties\": {\n        \"dtype\": \"object\",\n        \"num_unique_values\": 10,\n        \"samples\": [\n          \"2024-01-09\",\n          \"2024-01-02\",\n          \"2024-01-06\"\n        ],\n        \"semantic_type\": \"\",\n        \"description\": \"\"\n      }\n    },\n    {\n      \"column\": \"ProductID\",\n      \"properties\": {\n        \"dtype\": \"number\",\n        \"std\": 3,\n        \"min\": 101,\n        \"max\": 110,\n        \"num_unique_values\": 10,\n        \"samples\": [\n          109,\n          102,\n          106\n        ],\n        \"semantic_type\": \"\",\n        \"description\": \"\"\n      }\n    },\n    {\n      \"column\": \"SalesAmount\",\n      \"properties\": {\n        \"dtype\": \"number\",\n        \"std\": 91.44518698226945,\n        \"min\": 150.0,\n        \"max\": 425.0,\n        \"num_unique_values\": 9,\n        \"samples\": [\n          425.0,\n          150.0,\n          350.0\n        ],\n        \"semantic_type\": \"\",\n        \"description\": \"\"\n      }\n    },\n    {\n      \"column\": \"Region\",\n      \"properties\": {\n        \"dtype\": \"category\",\n        \"num_unique_values\": 4,\n        \"samples\": [\n          \"South\",\n          \"East\",\n          \"North\"\n        ],\n        \"semantic_type\": \"\",\n        \"description\": \"\"\n      }\n    }\n  ]\n}"
            }
          },
          "metadata": {},
          "execution_count": 6
        }
      ]
    },
    {
      "cell_type": "code",
      "source": [
        "import json\n",
        "import pandas as pd\n",
        "\n",
        "# Load a JSON file into a DataFrame\n",
        "df = pd.read_json('sales_data.json')\n",
        "\n",
        "\n",
        "# Sample nested JSON data\n",
        "data = '''\n",
        "{\n",
        "  \"store\": {\n",
        "    \"book\": [\n",
        "      { \"category\": \"fiction\", \"price\": 10 },\n",
        "      { \"category\": \"non-fiction\", \"price\": 12 }\n",
        "    ]\n",
        "  }\n",
        "}\n",
        "'''\n",
        "\n",
        "# Load and normalize nested JSON data\n",
        "json_data = json.loads(data)\n",
        "df = pd.json_normalize(json_data, record_path=['store', 'book'])\n",
        "print(df)"
      ],
      "metadata": {
        "colab": {
          "base_uri": "https://localhost:8080/",
          "height": 356
        },
        "id": "d1Cu2sA0GBiR",
        "outputId": "712fd1fc-badc-48d1-eb25-712cdd37f50e"
      },
      "execution_count": null,
      "outputs": [
        {
          "output_type": "error",
          "ename": "FileNotFoundError",
          "evalue": "File sales_data.json does not exist",
          "traceback": [
            "\u001b[0;31m---------------------------------------------------------------------------\u001b[0m",
            "\u001b[0;31mFileNotFoundError\u001b[0m                         Traceback (most recent call last)",
            "\u001b[0;32m<ipython-input-15-9ef405975d0c>\u001b[0m in \u001b[0;36m<cell line: 4>\u001b[0;34m()\u001b[0m\n\u001b[1;32m      2\u001b[0m \u001b[0;34m\u001b[0m\u001b[0m\n\u001b[1;32m      3\u001b[0m \u001b[0;31m# Load a JSON file into a DataFrame\u001b[0m\u001b[0;34m\u001b[0m\u001b[0;34m\u001b[0m\u001b[0m\n\u001b[0;32m----> 4\u001b[0;31m \u001b[0mdf\u001b[0m \u001b[0;34m=\u001b[0m \u001b[0mpd\u001b[0m\u001b[0;34m.\u001b[0m\u001b[0mread_json\u001b[0m\u001b[0;34m(\u001b[0m\u001b[0;34m'sales_data.json'\u001b[0m\u001b[0;34m)\u001b[0m\u001b[0;34m\u001b[0m\u001b[0;34m\u001b[0m\u001b[0m\n\u001b[0m\u001b[1;32m      5\u001b[0m \u001b[0;34m\u001b[0m\u001b[0m\n\u001b[1;32m      6\u001b[0m \u001b[0;32mimport\u001b[0m \u001b[0mjson\u001b[0m\u001b[0;34m\u001b[0m\u001b[0;34m\u001b[0m\u001b[0m\n",
            "\u001b[0;32m/usr/local/lib/python3.10/dist-packages/pandas/io/json/_json.py\u001b[0m in \u001b[0;36mread_json\u001b[0;34m(path_or_buf, orient, typ, dtype, convert_axes, convert_dates, keep_default_dates, precise_float, date_unit, encoding, encoding_errors, lines, chunksize, compression, nrows, storage_options, dtype_backend, engine)\u001b[0m\n\u001b[1;32m    789\u001b[0m         \u001b[0mconvert_axes\u001b[0m \u001b[0;34m=\u001b[0m \u001b[0;32mTrue\u001b[0m\u001b[0;34m\u001b[0m\u001b[0;34m\u001b[0m\u001b[0m\n\u001b[1;32m    790\u001b[0m \u001b[0;34m\u001b[0m\u001b[0m\n\u001b[0;32m--> 791\u001b[0;31m     json_reader = JsonReader(\n\u001b[0m\u001b[1;32m    792\u001b[0m         \u001b[0mpath_or_buf\u001b[0m\u001b[0;34m,\u001b[0m\u001b[0;34m\u001b[0m\u001b[0;34m\u001b[0m\u001b[0m\n\u001b[1;32m    793\u001b[0m         \u001b[0morient\u001b[0m\u001b[0;34m=\u001b[0m\u001b[0morient\u001b[0m\u001b[0;34m,\u001b[0m\u001b[0;34m\u001b[0m\u001b[0;34m\u001b[0m\u001b[0m\n",
            "\u001b[0;32m/usr/local/lib/python3.10/dist-packages/pandas/io/json/_json.py\u001b[0m in \u001b[0;36m__init__\u001b[0;34m(self, filepath_or_buffer, orient, typ, dtype, convert_axes, convert_dates, keep_default_dates, precise_float, date_unit, encoding, lines, chunksize, compression, nrows, storage_options, encoding_errors, dtype_backend, engine)\u001b[0m\n\u001b[1;32m    902\u001b[0m             \u001b[0mself\u001b[0m\u001b[0;34m.\u001b[0m\u001b[0mdata\u001b[0m \u001b[0;34m=\u001b[0m \u001b[0mfilepath_or_buffer\u001b[0m\u001b[0;34m\u001b[0m\u001b[0;34m\u001b[0m\u001b[0m\n\u001b[1;32m    903\u001b[0m         \u001b[0;32melif\u001b[0m \u001b[0mself\u001b[0m\u001b[0;34m.\u001b[0m\u001b[0mengine\u001b[0m \u001b[0;34m==\u001b[0m \u001b[0;34m\"ujson\"\u001b[0m\u001b[0;34m:\u001b[0m\u001b[0;34m\u001b[0m\u001b[0;34m\u001b[0m\u001b[0m\n\u001b[0;32m--> 904\u001b[0;31m             \u001b[0mdata\u001b[0m \u001b[0;34m=\u001b[0m \u001b[0mself\u001b[0m\u001b[0;34m.\u001b[0m\u001b[0m_get_data_from_filepath\u001b[0m\u001b[0;34m(\u001b[0m\u001b[0mfilepath_or_buffer\u001b[0m\u001b[0;34m)\u001b[0m\u001b[0;34m\u001b[0m\u001b[0;34m\u001b[0m\u001b[0m\n\u001b[0m\u001b[1;32m    905\u001b[0m             \u001b[0mself\u001b[0m\u001b[0;34m.\u001b[0m\u001b[0mdata\u001b[0m \u001b[0;34m=\u001b[0m \u001b[0mself\u001b[0m\u001b[0;34m.\u001b[0m\u001b[0m_preprocess_data\u001b[0m\u001b[0;34m(\u001b[0m\u001b[0mdata\u001b[0m\u001b[0;34m)\u001b[0m\u001b[0;34m\u001b[0m\u001b[0;34m\u001b[0m\u001b[0m\n\u001b[1;32m    906\u001b[0m \u001b[0;34m\u001b[0m\u001b[0m\n",
            "\u001b[0;32m/usr/local/lib/python3.10/dist-packages/pandas/io/json/_json.py\u001b[0m in \u001b[0;36m_get_data_from_filepath\u001b[0;34m(self, filepath_or_buffer)\u001b[0m\n\u001b[1;32m    958\u001b[0m             \u001b[0;32mand\u001b[0m \u001b[0;32mnot\u001b[0m \u001b[0mfile_exists\u001b[0m\u001b[0;34m(\u001b[0m\u001b[0mfilepath_or_buffer\u001b[0m\u001b[0;34m)\u001b[0m\u001b[0;34m\u001b[0m\u001b[0;34m\u001b[0m\u001b[0m\n\u001b[1;32m    959\u001b[0m         ):\n\u001b[0;32m--> 960\u001b[0;31m             \u001b[0;32mraise\u001b[0m \u001b[0mFileNotFoundError\u001b[0m\u001b[0;34m(\u001b[0m\u001b[0;34mf\"File {filepath_or_buffer} does not exist\"\u001b[0m\u001b[0;34m)\u001b[0m\u001b[0;34m\u001b[0m\u001b[0;34m\u001b[0m\u001b[0m\n\u001b[0m\u001b[1;32m    961\u001b[0m         \u001b[0;32melse\u001b[0m\u001b[0;34m:\u001b[0m\u001b[0;34m\u001b[0m\u001b[0;34m\u001b[0m\u001b[0m\n\u001b[1;32m    962\u001b[0m             warnings.warn(\n",
            "\u001b[0;31mFileNotFoundError\u001b[0m: File sales_data.json does not exist"
          ]
        }
      ]
    },
    {
      "cell_type": "code",
      "source": [
        "import requests\n",
        "import pandas as pd\n",
        "\n",
        "# Define the API endpoint\n",
        "url = 'https://api.example.com/sales'\n",
        "\n",
        "# Make a GET request to the API\n",
        "response = requests.get(url)\n",
        "\n",
        "# Ensure the response was successful\n",
        "if response.status_code == 200:\n",
        "    # Convert the response JSON data into a DataFrame\n",
        "    data = response.json()\n",
        "    df = pd.DataFrame(data)\n",
        "    print(df.head())\n",
        "else:\n",
        "    print(f\"Failed to retrieve data: {response.status_code}\")"
      ],
      "metadata": {
        "colab": {
          "base_uri": "https://localhost:8080/",
          "height": 686
        },
        "id": "Vr-oeJD5UVi6",
        "outputId": "7469b900-631f-4f6e-b757-839bcc35e3dd"
      },
      "execution_count": null,
      "outputs": [
        {
          "output_type": "error",
          "ename": "ConnectionError",
          "evalue": "HTTPSConnectionPool(host='api.example.com', port=443): Max retries exceeded with url: /sales (Caused by NameResolutionError(\"<urllib3.connection.HTTPSConnection object at 0x78efbffedb40>: Failed to resolve 'api.example.com' ([Errno -2] Name or service not known)\"))",
          "traceback": [
            "\u001b[0;31m---------------------------------------------------------------------------\u001b[0m",
            "\u001b[0;31mgaierror\u001b[0m                                  Traceback (most recent call last)",
            "\u001b[0;32m/usr/local/lib/python3.10/dist-packages/urllib3/connection.py\u001b[0m in \u001b[0;36m_new_conn\u001b[0;34m(self)\u001b[0m\n\u001b[1;32m    198\u001b[0m         \u001b[0;32mtry\u001b[0m\u001b[0;34m:\u001b[0m\u001b[0;34m\u001b[0m\u001b[0;34m\u001b[0m\u001b[0m\n\u001b[0;32m--> 199\u001b[0;31m             sock = connection.create_connection(\n\u001b[0m\u001b[1;32m    200\u001b[0m                 \u001b[0;34m(\u001b[0m\u001b[0mself\u001b[0m\u001b[0;34m.\u001b[0m\u001b[0m_dns_host\u001b[0m\u001b[0;34m,\u001b[0m \u001b[0mself\u001b[0m\u001b[0;34m.\u001b[0m\u001b[0mport\u001b[0m\u001b[0;34m)\u001b[0m\u001b[0;34m,\u001b[0m\u001b[0;34m\u001b[0m\u001b[0;34m\u001b[0m\u001b[0m\n",
            "\u001b[0;32m/usr/local/lib/python3.10/dist-packages/urllib3/util/connection.py\u001b[0m in \u001b[0;36mcreate_connection\u001b[0;34m(address, timeout, source_address, socket_options)\u001b[0m\n\u001b[1;32m     59\u001b[0m \u001b[0;34m\u001b[0m\u001b[0m\n\u001b[0;32m---> 60\u001b[0;31m     \u001b[0;32mfor\u001b[0m \u001b[0mres\u001b[0m \u001b[0;32min\u001b[0m \u001b[0msocket\u001b[0m\u001b[0;34m.\u001b[0m\u001b[0mgetaddrinfo\u001b[0m\u001b[0;34m(\u001b[0m\u001b[0mhost\u001b[0m\u001b[0;34m,\u001b[0m \u001b[0mport\u001b[0m\u001b[0;34m,\u001b[0m \u001b[0mfamily\u001b[0m\u001b[0;34m,\u001b[0m \u001b[0msocket\u001b[0m\u001b[0;34m.\u001b[0m\u001b[0mSOCK_STREAM\u001b[0m\u001b[0;34m)\u001b[0m\u001b[0;34m:\u001b[0m\u001b[0;34m\u001b[0m\u001b[0;34m\u001b[0m\u001b[0m\n\u001b[0m\u001b[1;32m     61\u001b[0m         \u001b[0maf\u001b[0m\u001b[0;34m,\u001b[0m \u001b[0msocktype\u001b[0m\u001b[0;34m,\u001b[0m \u001b[0mproto\u001b[0m\u001b[0;34m,\u001b[0m \u001b[0mcanonname\u001b[0m\u001b[0;34m,\u001b[0m \u001b[0msa\u001b[0m \u001b[0;34m=\u001b[0m \u001b[0mres\u001b[0m\u001b[0;34m\u001b[0m\u001b[0;34m\u001b[0m\u001b[0m\n",
            "\u001b[0;32m/usr/lib/python3.10/socket.py\u001b[0m in \u001b[0;36mgetaddrinfo\u001b[0;34m(host, port, family, type, proto, flags)\u001b[0m\n\u001b[1;32m    954\u001b[0m     \u001b[0maddrlist\u001b[0m \u001b[0;34m=\u001b[0m \u001b[0;34m[\u001b[0m\u001b[0;34m]\u001b[0m\u001b[0;34m\u001b[0m\u001b[0;34m\u001b[0m\u001b[0m\n\u001b[0;32m--> 955\u001b[0;31m     \u001b[0;32mfor\u001b[0m \u001b[0mres\u001b[0m \u001b[0;32min\u001b[0m \u001b[0m_socket\u001b[0m\u001b[0;34m.\u001b[0m\u001b[0mgetaddrinfo\u001b[0m\u001b[0;34m(\u001b[0m\u001b[0mhost\u001b[0m\u001b[0;34m,\u001b[0m \u001b[0mport\u001b[0m\u001b[0;34m,\u001b[0m \u001b[0mfamily\u001b[0m\u001b[0;34m,\u001b[0m \u001b[0mtype\u001b[0m\u001b[0;34m,\u001b[0m \u001b[0mproto\u001b[0m\u001b[0;34m,\u001b[0m \u001b[0mflags\u001b[0m\u001b[0;34m)\u001b[0m\u001b[0;34m:\u001b[0m\u001b[0;34m\u001b[0m\u001b[0;34m\u001b[0m\u001b[0m\n\u001b[0m\u001b[1;32m    956\u001b[0m         \u001b[0maf\u001b[0m\u001b[0;34m,\u001b[0m \u001b[0msocktype\u001b[0m\u001b[0;34m,\u001b[0m \u001b[0mproto\u001b[0m\u001b[0;34m,\u001b[0m \u001b[0mcanonname\u001b[0m\u001b[0;34m,\u001b[0m \u001b[0msa\u001b[0m \u001b[0;34m=\u001b[0m \u001b[0mres\u001b[0m\u001b[0;34m\u001b[0m\u001b[0;34m\u001b[0m\u001b[0m\n",
            "\u001b[0;31mgaierror\u001b[0m: [Errno -2] Name or service not known",
            "\nThe above exception was the direct cause of the following exception:\n",
            "\u001b[0;31mNameResolutionError\u001b[0m                       Traceback (most recent call last)",
            "\u001b[0;32m/usr/local/lib/python3.10/dist-packages/urllib3/connectionpool.py\u001b[0m in \u001b[0;36murlopen\u001b[0;34m(self, method, url, body, headers, retries, redirect, assert_same_host, timeout, pool_timeout, release_conn, chunked, body_pos, preload_content, decode_content, **response_kw)\u001b[0m\n\u001b[1;32m    788\u001b[0m             \u001b[0;31m# Make the request on the HTTPConnection object\u001b[0m\u001b[0;34m\u001b[0m\u001b[0;34m\u001b[0m\u001b[0m\n\u001b[0;32m--> 789\u001b[0;31m             response = self._make_request(\n\u001b[0m\u001b[1;32m    790\u001b[0m                 \u001b[0mconn\u001b[0m\u001b[0;34m,\u001b[0m\u001b[0;34m\u001b[0m\u001b[0;34m\u001b[0m\u001b[0m\n",
            "\u001b[0;32m/usr/local/lib/python3.10/dist-packages/urllib3/connectionpool.py\u001b[0m in \u001b[0;36m_make_request\u001b[0;34m(self, conn, method, url, body, headers, retries, timeout, chunked, response_conn, preload_content, decode_content, enforce_content_length)\u001b[0m\n\u001b[1;32m    489\u001b[0m                 \u001b[0mnew_e\u001b[0m \u001b[0;34m=\u001b[0m \u001b[0m_wrap_proxy_error\u001b[0m\u001b[0;34m(\u001b[0m\u001b[0mnew_e\u001b[0m\u001b[0;34m,\u001b[0m \u001b[0mconn\u001b[0m\u001b[0;34m.\u001b[0m\u001b[0mproxy\u001b[0m\u001b[0;34m.\u001b[0m\u001b[0mscheme\u001b[0m\u001b[0;34m)\u001b[0m\u001b[0;34m\u001b[0m\u001b[0;34m\u001b[0m\u001b[0m\n\u001b[0;32m--> 490\u001b[0;31m             \u001b[0;32mraise\u001b[0m \u001b[0mnew_e\u001b[0m\u001b[0;34m\u001b[0m\u001b[0;34m\u001b[0m\u001b[0m\n\u001b[0m\u001b[1;32m    491\u001b[0m \u001b[0;34m\u001b[0m\u001b[0m\n",
            "\u001b[0;32m/usr/local/lib/python3.10/dist-packages/urllib3/connectionpool.py\u001b[0m in \u001b[0;36m_make_request\u001b[0;34m(self, conn, method, url, body, headers, retries, timeout, chunked, response_conn, preload_content, decode_content, enforce_content_length)\u001b[0m\n\u001b[1;32m    465\u001b[0m             \u001b[0;32mtry\u001b[0m\u001b[0;34m:\u001b[0m\u001b[0;34m\u001b[0m\u001b[0;34m\u001b[0m\u001b[0m\n\u001b[0;32m--> 466\u001b[0;31m                 \u001b[0mself\u001b[0m\u001b[0;34m.\u001b[0m\u001b[0m_validate_conn\u001b[0m\u001b[0;34m(\u001b[0m\u001b[0mconn\u001b[0m\u001b[0;34m)\u001b[0m\u001b[0;34m\u001b[0m\u001b[0;34m\u001b[0m\u001b[0m\n\u001b[0m\u001b[1;32m    467\u001b[0m             \u001b[0;32mexcept\u001b[0m \u001b[0;34m(\u001b[0m\u001b[0mSocketTimeout\u001b[0m\u001b[0;34m,\u001b[0m \u001b[0mBaseSSLError\u001b[0m\u001b[0;34m)\u001b[0m \u001b[0;32mas\u001b[0m \u001b[0me\u001b[0m\u001b[0;34m:\u001b[0m\u001b[0;34m\u001b[0m\u001b[0;34m\u001b[0m\u001b[0m\n",
            "\u001b[0;32m/usr/local/lib/python3.10/dist-packages/urllib3/connectionpool.py\u001b[0m in \u001b[0;36m_validate_conn\u001b[0;34m(self, conn)\u001b[0m\n\u001b[1;32m   1094\u001b[0m         \u001b[0;32mif\u001b[0m \u001b[0mconn\u001b[0m\u001b[0;34m.\u001b[0m\u001b[0mis_closed\u001b[0m\u001b[0;34m:\u001b[0m\u001b[0;34m\u001b[0m\u001b[0;34m\u001b[0m\u001b[0m\n\u001b[0;32m-> 1095\u001b[0;31m             \u001b[0mconn\u001b[0m\u001b[0;34m.\u001b[0m\u001b[0mconnect\u001b[0m\u001b[0;34m(\u001b[0m\u001b[0;34m)\u001b[0m\u001b[0;34m\u001b[0m\u001b[0;34m\u001b[0m\u001b[0m\n\u001b[0m\u001b[1;32m   1096\u001b[0m \u001b[0;34m\u001b[0m\u001b[0m\n",
            "\u001b[0;32m/usr/local/lib/python3.10/dist-packages/urllib3/connection.py\u001b[0m in \u001b[0;36mconnect\u001b[0;34m(self)\u001b[0m\n\u001b[1;32m    692\u001b[0m             \u001b[0msock\u001b[0m\u001b[0;34m:\u001b[0m \u001b[0msocket\u001b[0m\u001b[0;34m.\u001b[0m\u001b[0msocket\u001b[0m \u001b[0;34m|\u001b[0m \u001b[0mssl\u001b[0m\u001b[0;34m.\u001b[0m\u001b[0mSSLSocket\u001b[0m\u001b[0;34m\u001b[0m\u001b[0;34m\u001b[0m\u001b[0m\n\u001b[0;32m--> 693\u001b[0;31m             \u001b[0mself\u001b[0m\u001b[0;34m.\u001b[0m\u001b[0msock\u001b[0m \u001b[0;34m=\u001b[0m \u001b[0msock\u001b[0m \u001b[0;34m=\u001b[0m \u001b[0mself\u001b[0m\u001b[0;34m.\u001b[0m\u001b[0m_new_conn\u001b[0m\u001b[0;34m(\u001b[0m\u001b[0;34m)\u001b[0m\u001b[0;34m\u001b[0m\u001b[0;34m\u001b[0m\u001b[0m\n\u001b[0m\u001b[1;32m    694\u001b[0m             \u001b[0mserver_hostname\u001b[0m\u001b[0;34m:\u001b[0m \u001b[0mstr\u001b[0m \u001b[0;34m=\u001b[0m \u001b[0mself\u001b[0m\u001b[0;34m.\u001b[0m\u001b[0mhost\u001b[0m\u001b[0;34m\u001b[0m\u001b[0;34m\u001b[0m\u001b[0m\n",
            "\u001b[0;32m/usr/local/lib/python3.10/dist-packages/urllib3/connection.py\u001b[0m in \u001b[0;36m_new_conn\u001b[0;34m(self)\u001b[0m\n\u001b[1;32m    205\u001b[0m         \u001b[0;32mexcept\u001b[0m \u001b[0msocket\u001b[0m\u001b[0;34m.\u001b[0m\u001b[0mgaierror\u001b[0m \u001b[0;32mas\u001b[0m \u001b[0me\u001b[0m\u001b[0;34m:\u001b[0m\u001b[0;34m\u001b[0m\u001b[0;34m\u001b[0m\u001b[0m\n\u001b[0;32m--> 206\u001b[0;31m             \u001b[0;32mraise\u001b[0m \u001b[0mNameResolutionError\u001b[0m\u001b[0;34m(\u001b[0m\u001b[0mself\u001b[0m\u001b[0;34m.\u001b[0m\u001b[0mhost\u001b[0m\u001b[0;34m,\u001b[0m \u001b[0mself\u001b[0m\u001b[0;34m,\u001b[0m \u001b[0me\u001b[0m\u001b[0;34m)\u001b[0m \u001b[0;32mfrom\u001b[0m \u001b[0me\u001b[0m\u001b[0;34m\u001b[0m\u001b[0;34m\u001b[0m\u001b[0m\n\u001b[0m\u001b[1;32m    207\u001b[0m         \u001b[0;32mexcept\u001b[0m \u001b[0mSocketTimeout\u001b[0m \u001b[0;32mas\u001b[0m \u001b[0me\u001b[0m\u001b[0;34m:\u001b[0m\u001b[0;34m\u001b[0m\u001b[0;34m\u001b[0m\u001b[0m\n",
            "\u001b[0;31mNameResolutionError\u001b[0m: <urllib3.connection.HTTPSConnection object at 0x78efbffedb40>: Failed to resolve 'api.example.com' ([Errno -2] Name or service not known)",
            "\nThe above exception was the direct cause of the following exception:\n",
            "\u001b[0;31mMaxRetryError\u001b[0m                             Traceback (most recent call last)",
            "\u001b[0;32m/usr/local/lib/python3.10/dist-packages/requests/adapters.py\u001b[0m in \u001b[0;36msend\u001b[0;34m(self, request, stream, timeout, verify, cert, proxies)\u001b[0m\n\u001b[1;32m    666\u001b[0m         \u001b[0;32mtry\u001b[0m\u001b[0;34m:\u001b[0m\u001b[0;34m\u001b[0m\u001b[0;34m\u001b[0m\u001b[0m\n\u001b[0;32m--> 667\u001b[0;31m             resp = conn.urlopen(\n\u001b[0m\u001b[1;32m    668\u001b[0m                 \u001b[0mmethod\u001b[0m\u001b[0;34m=\u001b[0m\u001b[0mrequest\u001b[0m\u001b[0;34m.\u001b[0m\u001b[0mmethod\u001b[0m\u001b[0;34m,\u001b[0m\u001b[0;34m\u001b[0m\u001b[0;34m\u001b[0m\u001b[0m\n",
            "\u001b[0;32m/usr/local/lib/python3.10/dist-packages/urllib3/connectionpool.py\u001b[0m in \u001b[0;36murlopen\u001b[0;34m(self, method, url, body, headers, retries, redirect, assert_same_host, timeout, pool_timeout, release_conn, chunked, body_pos, preload_content, decode_content, **response_kw)\u001b[0m\n\u001b[1;32m    842\u001b[0m \u001b[0;34m\u001b[0m\u001b[0m\n\u001b[0;32m--> 843\u001b[0;31m             retries = retries.increment(\n\u001b[0m\u001b[1;32m    844\u001b[0m                 \u001b[0mmethod\u001b[0m\u001b[0;34m,\u001b[0m \u001b[0murl\u001b[0m\u001b[0;34m,\u001b[0m \u001b[0merror\u001b[0m\u001b[0;34m=\u001b[0m\u001b[0mnew_e\u001b[0m\u001b[0;34m,\u001b[0m \u001b[0m_pool\u001b[0m\u001b[0;34m=\u001b[0m\u001b[0mself\u001b[0m\u001b[0;34m,\u001b[0m \u001b[0m_stacktrace\u001b[0m\u001b[0;34m=\u001b[0m\u001b[0msys\u001b[0m\u001b[0;34m.\u001b[0m\u001b[0mexc_info\u001b[0m\u001b[0;34m(\u001b[0m\u001b[0;34m)\u001b[0m\u001b[0;34m[\u001b[0m\u001b[0;36m2\u001b[0m\u001b[0;34m]\u001b[0m\u001b[0;34m\u001b[0m\u001b[0;34m\u001b[0m\u001b[0m\n",
            "\u001b[0;32m/usr/local/lib/python3.10/dist-packages/urllib3/util/retry.py\u001b[0m in \u001b[0;36mincrement\u001b[0;34m(self, method, url, response, error, _pool, _stacktrace)\u001b[0m\n\u001b[1;32m    518\u001b[0m             \u001b[0mreason\u001b[0m \u001b[0;34m=\u001b[0m \u001b[0merror\u001b[0m \u001b[0;32mor\u001b[0m \u001b[0mResponseError\u001b[0m\u001b[0;34m(\u001b[0m\u001b[0mcause\u001b[0m\u001b[0;34m)\u001b[0m\u001b[0;34m\u001b[0m\u001b[0;34m\u001b[0m\u001b[0m\n\u001b[0;32m--> 519\u001b[0;31m             \u001b[0;32mraise\u001b[0m \u001b[0mMaxRetryError\u001b[0m\u001b[0;34m(\u001b[0m\u001b[0m_pool\u001b[0m\u001b[0;34m,\u001b[0m \u001b[0murl\u001b[0m\u001b[0;34m,\u001b[0m \u001b[0mreason\u001b[0m\u001b[0;34m)\u001b[0m \u001b[0;32mfrom\u001b[0m \u001b[0mreason\u001b[0m  \u001b[0;31m# type: ignore[arg-type]\u001b[0m\u001b[0;34m\u001b[0m\u001b[0;34m\u001b[0m\u001b[0m\n\u001b[0m\u001b[1;32m    520\u001b[0m \u001b[0;34m\u001b[0m\u001b[0m\n",
            "\u001b[0;31mMaxRetryError\u001b[0m: HTTPSConnectionPool(host='api.example.com', port=443): Max retries exceeded with url: /sales (Caused by NameResolutionError(\"<urllib3.connection.HTTPSConnection object at 0x78efbffedb40>: Failed to resolve 'api.example.com' ([Errno -2] Name or service not known)\"))",
            "\nDuring handling of the above exception, another exception occurred:\n",
            "\u001b[0;31mConnectionError\u001b[0m                           Traceback (most recent call last)",
            "\u001b[0;32m<ipython-input-8-0506afe0ceac>\u001b[0m in \u001b[0;36m<cell line: 8>\u001b[0;34m()\u001b[0m\n\u001b[1;32m      6\u001b[0m \u001b[0;34m\u001b[0m\u001b[0m\n\u001b[1;32m      7\u001b[0m \u001b[0;31m# Make a GET request to the API\u001b[0m\u001b[0;34m\u001b[0m\u001b[0;34m\u001b[0m\u001b[0m\n\u001b[0;32m----> 8\u001b[0;31m \u001b[0mresponse\u001b[0m \u001b[0;34m=\u001b[0m \u001b[0mrequests\u001b[0m\u001b[0;34m.\u001b[0m\u001b[0mget\u001b[0m\u001b[0;34m(\u001b[0m\u001b[0murl\u001b[0m\u001b[0;34m)\u001b[0m\u001b[0;34m\u001b[0m\u001b[0;34m\u001b[0m\u001b[0m\n\u001b[0m\u001b[1;32m      9\u001b[0m \u001b[0;34m\u001b[0m\u001b[0m\n\u001b[1;32m     10\u001b[0m \u001b[0;31m# Ensure the response was successful\u001b[0m\u001b[0;34m\u001b[0m\u001b[0;34m\u001b[0m\u001b[0m\n",
            "\u001b[0;32m/usr/local/lib/python3.10/dist-packages/requests/api.py\u001b[0m in \u001b[0;36mget\u001b[0;34m(url, params, **kwargs)\u001b[0m\n\u001b[1;32m     71\u001b[0m     \"\"\"\n\u001b[1;32m     72\u001b[0m \u001b[0;34m\u001b[0m\u001b[0m\n\u001b[0;32m---> 73\u001b[0;31m     \u001b[0;32mreturn\u001b[0m \u001b[0mrequest\u001b[0m\u001b[0;34m(\u001b[0m\u001b[0;34m\"get\"\u001b[0m\u001b[0;34m,\u001b[0m \u001b[0murl\u001b[0m\u001b[0;34m,\u001b[0m \u001b[0mparams\u001b[0m\u001b[0;34m=\u001b[0m\u001b[0mparams\u001b[0m\u001b[0;34m,\u001b[0m \u001b[0;34m**\u001b[0m\u001b[0mkwargs\u001b[0m\u001b[0;34m)\u001b[0m\u001b[0;34m\u001b[0m\u001b[0;34m\u001b[0m\u001b[0m\n\u001b[0m\u001b[1;32m     74\u001b[0m \u001b[0;34m\u001b[0m\u001b[0m\n\u001b[1;32m     75\u001b[0m \u001b[0;34m\u001b[0m\u001b[0m\n",
            "\u001b[0;32m/usr/local/lib/python3.10/dist-packages/requests/api.py\u001b[0m in \u001b[0;36mrequest\u001b[0;34m(method, url, **kwargs)\u001b[0m\n\u001b[1;32m     57\u001b[0m     \u001b[0;31m# cases, and look like a memory leak in others.\u001b[0m\u001b[0;34m\u001b[0m\u001b[0;34m\u001b[0m\u001b[0m\n\u001b[1;32m     58\u001b[0m     \u001b[0;32mwith\u001b[0m \u001b[0msessions\u001b[0m\u001b[0;34m.\u001b[0m\u001b[0mSession\u001b[0m\u001b[0;34m(\u001b[0m\u001b[0;34m)\u001b[0m \u001b[0;32mas\u001b[0m \u001b[0msession\u001b[0m\u001b[0;34m:\u001b[0m\u001b[0;34m\u001b[0m\u001b[0;34m\u001b[0m\u001b[0m\n\u001b[0;32m---> 59\u001b[0;31m         \u001b[0;32mreturn\u001b[0m \u001b[0msession\u001b[0m\u001b[0;34m.\u001b[0m\u001b[0mrequest\u001b[0m\u001b[0;34m(\u001b[0m\u001b[0mmethod\u001b[0m\u001b[0;34m=\u001b[0m\u001b[0mmethod\u001b[0m\u001b[0;34m,\u001b[0m \u001b[0murl\u001b[0m\u001b[0;34m=\u001b[0m\u001b[0murl\u001b[0m\u001b[0;34m,\u001b[0m \u001b[0;34m**\u001b[0m\u001b[0mkwargs\u001b[0m\u001b[0;34m)\u001b[0m\u001b[0;34m\u001b[0m\u001b[0;34m\u001b[0m\u001b[0m\n\u001b[0m\u001b[1;32m     60\u001b[0m \u001b[0;34m\u001b[0m\u001b[0m\n\u001b[1;32m     61\u001b[0m \u001b[0;34m\u001b[0m\u001b[0m\n",
            "\u001b[0;32m/usr/local/lib/python3.10/dist-packages/requests/sessions.py\u001b[0m in \u001b[0;36mrequest\u001b[0;34m(self, method, url, params, data, headers, cookies, files, auth, timeout, allow_redirects, proxies, hooks, stream, verify, cert, json)\u001b[0m\n\u001b[1;32m    587\u001b[0m         }\n\u001b[1;32m    588\u001b[0m         \u001b[0msend_kwargs\u001b[0m\u001b[0;34m.\u001b[0m\u001b[0mupdate\u001b[0m\u001b[0;34m(\u001b[0m\u001b[0msettings\u001b[0m\u001b[0;34m)\u001b[0m\u001b[0;34m\u001b[0m\u001b[0;34m\u001b[0m\u001b[0m\n\u001b[0;32m--> 589\u001b[0;31m         \u001b[0mresp\u001b[0m \u001b[0;34m=\u001b[0m \u001b[0mself\u001b[0m\u001b[0;34m.\u001b[0m\u001b[0msend\u001b[0m\u001b[0;34m(\u001b[0m\u001b[0mprep\u001b[0m\u001b[0;34m,\u001b[0m \u001b[0;34m**\u001b[0m\u001b[0msend_kwargs\u001b[0m\u001b[0;34m)\u001b[0m\u001b[0;34m\u001b[0m\u001b[0;34m\u001b[0m\u001b[0m\n\u001b[0m\u001b[1;32m    590\u001b[0m \u001b[0;34m\u001b[0m\u001b[0m\n\u001b[1;32m    591\u001b[0m         \u001b[0;32mreturn\u001b[0m \u001b[0mresp\u001b[0m\u001b[0;34m\u001b[0m\u001b[0;34m\u001b[0m\u001b[0m\n",
            "\u001b[0;32m/usr/local/lib/python3.10/dist-packages/requests/sessions.py\u001b[0m in \u001b[0;36msend\u001b[0;34m(self, request, **kwargs)\u001b[0m\n\u001b[1;32m    701\u001b[0m \u001b[0;34m\u001b[0m\u001b[0m\n\u001b[1;32m    702\u001b[0m         \u001b[0;31m# Send the request\u001b[0m\u001b[0;34m\u001b[0m\u001b[0;34m\u001b[0m\u001b[0m\n\u001b[0;32m--> 703\u001b[0;31m         \u001b[0mr\u001b[0m \u001b[0;34m=\u001b[0m \u001b[0madapter\u001b[0m\u001b[0;34m.\u001b[0m\u001b[0msend\u001b[0m\u001b[0;34m(\u001b[0m\u001b[0mrequest\u001b[0m\u001b[0;34m,\u001b[0m \u001b[0;34m**\u001b[0m\u001b[0mkwargs\u001b[0m\u001b[0;34m)\u001b[0m\u001b[0;34m\u001b[0m\u001b[0;34m\u001b[0m\u001b[0m\n\u001b[0m\u001b[1;32m    704\u001b[0m \u001b[0;34m\u001b[0m\u001b[0m\n\u001b[1;32m    705\u001b[0m         \u001b[0;31m# Total elapsed time of the request (approximately)\u001b[0m\u001b[0;34m\u001b[0m\u001b[0;34m\u001b[0m\u001b[0m\n",
            "\u001b[0;32m/usr/local/lib/python3.10/dist-packages/requests/adapters.py\u001b[0m in \u001b[0;36msend\u001b[0;34m(self, request, stream, timeout, verify, cert, proxies)\u001b[0m\n\u001b[1;32m    698\u001b[0m                 \u001b[0;32mraise\u001b[0m \u001b[0mSSLError\u001b[0m\u001b[0;34m(\u001b[0m\u001b[0me\u001b[0m\u001b[0;34m,\u001b[0m \u001b[0mrequest\u001b[0m\u001b[0;34m=\u001b[0m\u001b[0mrequest\u001b[0m\u001b[0;34m)\u001b[0m\u001b[0;34m\u001b[0m\u001b[0;34m\u001b[0m\u001b[0m\n\u001b[1;32m    699\u001b[0m \u001b[0;34m\u001b[0m\u001b[0m\n\u001b[0;32m--> 700\u001b[0;31m             \u001b[0;32mraise\u001b[0m \u001b[0mConnectionError\u001b[0m\u001b[0;34m(\u001b[0m\u001b[0me\u001b[0m\u001b[0;34m,\u001b[0m \u001b[0mrequest\u001b[0m\u001b[0;34m=\u001b[0m\u001b[0mrequest\u001b[0m\u001b[0;34m)\u001b[0m\u001b[0;34m\u001b[0m\u001b[0;34m\u001b[0m\u001b[0m\n\u001b[0m\u001b[1;32m    701\u001b[0m \u001b[0;34m\u001b[0m\u001b[0m\n\u001b[1;32m    702\u001b[0m         \u001b[0;32mexcept\u001b[0m \u001b[0mClosedPoolError\u001b[0m \u001b[0;32mas\u001b[0m \u001b[0me\u001b[0m\u001b[0;34m:\u001b[0m\u001b[0;34m\u001b[0m\u001b[0;34m\u001b[0m\u001b[0m\n",
            "\u001b[0;31mConnectionError\u001b[0m: HTTPSConnectionPool(host='api.example.com', port=443): Max retries exceeded with url: /sales (Caused by NameResolutionError(\"<urllib3.connection.HTTPSConnection object at 0x78efbffedb40>: Failed to resolve 'api.example.com' ([Errno -2] Name or service not known)\"))"
          ]
        }
      ]
    },
    {
      "cell_type": "code",
      "source": [
        "import requests\n",
        "import pandas as pd\n",
        "\n",
        "# API URL with pagination\n",
        "url = 'https://api.example.com/sales'\n",
        "params = {'page': 1}\n",
        "all_data = []\n",
        "\n",
        "# Loop through all pages of the API\n",
        "while True:\n",
        "    response = requests.get(url, params=params)\n",
        "    if response.status_code == 200:\n",
        "        # Convert the current page's data into a DataFrame\n",
        "        data = response.json()\n",
        "        if not data:\n",
        "            break  # Stop if no more data\n",
        "        df = pd.DataFrame(data)\n",
        "        all_data.append(df)\n",
        "        params['page'] += 1  # Increment the page number for the next request\n",
        "    else:\n",
        "        print(f\"Failed to retrieve data: {response.status_code}\")\n",
        "        break\n",
        "\n",
        "# Concatenate all pages into a single DataFrame\n",
        "final_df = pd.concat(all_data, ignore_index=True)\n",
        "print(final_df.head())"
      ],
      "metadata": {
        "id": "dAt-BRY-X99k"
      },
      "execution_count": null,
      "outputs": []
    },
    {
      "cell_type": "code",
      "source": [
        "# Define the API URL and headers\n",
        "url = 'https://api.example.com/sales'\n",
        "headers = {'Authorization': 'Bearer YOUR_API_TOKEN'}\n",
        "\n",
        "# Make the API request with authentication\n",
        "response = requests.get(url, headers=headers)\n",
        "\n",
        "# Convert the response to a DataFrame\n",
        "data = response.json()\n",
        "df = pd.DataFrame(data)\n",
        "print(df.head())"
      ],
      "metadata": {
        "id": "8TRtPA7Gan1f"
      },
      "execution_count": null,
      "outputs": []
    },
    {
      "cell_type": "code",
      "source": [
        "import pymongo\n",
        "import pandas as pd\n",
        "\n",
        "# Connect to MongoDB\n",
        "client = pymongo.MongoClient(\"mongodb://localhost:27017/\")\n",
        "db = client['sales_db']\n",
        "collection = db['sales']\n",
        "\n",
        "# Query the MongoDB collection\n",
        "cursor = collection.find()\n",
        "\n",
        "# Convert the cursor to a list and load into a DataFrame\n",
        "df = pd.DataFrame(list(cursor))\n",
        "print(df.head())"
      ],
      "metadata": {
        "id": "_SUgj743a-68"
      },
      "execution_count": null,
      "outputs": []
    },
    {
      "cell_type": "code",
      "source": [
        "import pandas as pd\n",
        "\n",
        "# Sample DataFrame\n",
        "data = {\n",
        "    \"ProductID\": [101, 102, 103, 104],\n",
        "    \"SalesAmount\": [200, 150, 400, 300],\n",
        "    \"Region\": [\"North\", \"South\", \"West\", \"East\"]\n",
        "}\n",
        "\n",
        "df = pd.DataFrame(data)\n",
        "\n",
        "# Sort by SalesAmount in ascending order\n",
        "df_sorted = df.sort_values(by=\"SalesAmount\")\n",
        "print(df_sorted)"
      ],
      "metadata": {
        "colab": {
          "base_uri": "https://localhost:8080/"
        },
        "id": "enprKBLDbBS-",
        "outputId": "d9908e87-cdc3-4165-8475-2a13c49cde60"
      },
      "execution_count": null,
      "outputs": [
        {
          "output_type": "stream",
          "name": "stdout",
          "text": [
            "   ProductID  SalesAmount Region\n",
            "1        102          150  South\n",
            "0        101          200  North\n",
            "3        104          300   East\n",
            "2        103          400   West\n"
          ]
        }
      ]
    },
    {
      "cell_type": "code",
      "source": [
        "# Sort by Region (ascending) and SalesAmount (descending)\n",
        "df_sorted_multi = df.sort_values(by=[\"Region\", \"SalesAmount\"], ascending=[True, False])\n",
        "print(df_sorted_multi)"
      ],
      "metadata": {
        "colab": {
          "base_uri": "https://localhost:8080/"
        },
        "id": "eiieNDEHd62R",
        "outputId": "1a80ecd3-d359-4165-dd26-63a3b1467e2a"
      },
      "execution_count": null,
      "outputs": [
        {
          "output_type": "stream",
          "name": "stdout",
          "text": [
            "   ProductID  SalesAmount Region\n",
            "3        104          300   East\n",
            "0        101          200  North\n",
            "1        102          150  South\n",
            "2        103          400   West\n"
          ]
        }
      ]
    },
    {
      "cell_type": "code",
      "source": [
        "# Set a custom index (ProductID) and sort by index\n",
        "df.set_index('ProductID', inplace=True)\n",
        "df_sorted_index = df.sort_index()\n",
        "print(df_sorted_index)"
      ],
      "metadata": {
        "colab": {
          "base_uri": "https://localhost:8080/"
        },
        "id": "CUOm6dRzeNR-",
        "outputId": "5c0cbbde-ae2e-41c8-e066-52642231449e"
      },
      "execution_count": null,
      "outputs": [
        {
          "output_type": "stream",
          "name": "stdout",
          "text": [
            "           SalesAmount Region\n",
            "ProductID                    \n",
            "101                200  North\n",
            "102                150  South\n",
            "103                400   West\n",
            "104                300   East\n"
          ]
        }
      ]
    },
    {
      "cell_type": "code",
      "source": [
        "# Filter rows where SalesAmount is greater than 200\n",
        "df_filtered = df[df['SalesAmount'] > 200]\n",
        "print(df_filtered)"
      ],
      "metadata": {
        "id": "Z1vl869beU6A",
        "colab": {
          "base_uri": "https://localhost:8080/"
        },
        "outputId": "1e94a280-bec8-4a00-bc49-93ff169efc5a"
      },
      "execution_count": 2,
      "outputs": [
        {
          "output_type": "stream",
          "name": "stdout",
          "text": [
            "   ProductID  SalesAmount Region\n",
            "2        103          400   West\n",
            "3        104          300   East\n"
          ]
        }
      ]
    },
    {
      "cell_type": "code",
      "source": [
        "# Filter rows where SalesAmount is greater than 200 AND Region is \"West\"\n",
        "df_filtered = df[(df['SalesAmount'] > 200) & (df['Region'] == 'West')]\n",
        "print(df_filtered)"
      ],
      "metadata": {
        "colab": {
          "base_uri": "https://localhost:8080/"
        },
        "id": "o8eSf5JenlT3",
        "outputId": "9e28d290-1e4f-448a-95e3-35163566c01f"
      },
      "execution_count": 3,
      "outputs": [
        {
          "output_type": "stream",
          "name": "stdout",
          "text": [
            "   ProductID  SalesAmount Region\n",
            "2        103          400   West\n"
          ]
        }
      ]
    },
    {
      "cell_type": "code",
      "source": [
        "# Filter rows where Region is either \"North\" or \"West\"\n",
        "df_filtered = df[df['Region'].isin(['North', 'West'])]\n",
        "print(df_filtered)"
      ],
      "metadata": {
        "colab": {
          "base_uri": "https://localhost:8080/"
        },
        "id": "YLEFCTAdnp_4",
        "outputId": "e4e4ac25-601d-48c0-80e4-139d8ae34bf4"
      },
      "execution_count": 4,
      "outputs": [
        {
          "output_type": "stream",
          "name": "stdout",
          "text": [
            "   ProductID  SalesAmount Region\n",
            "0        101          200  North\n",
            "2        103          400   West\n"
          ]
        }
      ]
    },
    {
      "cell_type": "code",
      "source": [
        "# Using query to filter rows\n",
        "df_filtered = df.query('SalesAmount > 200 and Region == \"West\"')\n",
        "print(df_filtered)"
      ],
      "metadata": {
        "colab": {
          "base_uri": "https://localhost:8080/"
        },
        "id": "VpoKWp6uny91",
        "outputId": "ccd25d88-95eb-4121-e495-9348b9b53043"
      },
      "execution_count": 5,
      "outputs": [
        {
          "output_type": "stream",
          "name": "stdout",
          "text": [
            "   ProductID  SalesAmount Region\n",
            "2        103          400   West\n"
          ]
        }
      ]
    },
    {
      "cell_type": "code",
      "source": [
        "# Define a custom function\n",
        "def add_tax(sales):\n",
        "    return sales * 1.10  # Add 10% tax\n",
        "\n",
        "# Apply the function to the SalesAmount column\n",
        "df['SalesWithTax'] = df['SalesAmount'].apply(add_tax)\n",
        "print(df)"
      ],
      "metadata": {
        "colab": {
          "base_uri": "https://localhost:8080/"
        },
        "id": "wiLYFzS9n4sy",
        "outputId": "3bbebe42-bf85-4671-9343-b18e1aeed814"
      },
      "execution_count": 6,
      "outputs": [
        {
          "output_type": "stream",
          "name": "stdout",
          "text": [
            "   ProductID  SalesAmount Region  SalesWithTax\n",
            "0        101          200  North         220.0\n",
            "1        102          150  South         165.0\n",
            "2        103          400   West         440.0\n",
            "3        104          300   East         330.0\n"
          ]
        }
      ]
    },
    {
      "cell_type": "code",
      "source": [
        "# Apply function row-wise (axis=1)\n",
        "df['ProductSummary'] = df.apply(lambda row: f\"{row['Region']} - {row['SalesAmount']}\", axis=1)\n",
        "print(df)"
      ],
      "metadata": {
        "colab": {
          "base_uri": "https://localhost:8080/"
        },
        "id": "cnkgHs7EoU2j",
        "outputId": "cb8d0e41-0ef2-4306-ab8d-43af7a15d6b4"
      },
      "execution_count": 7,
      "outputs": [
        {
          "output_type": "stream",
          "name": "stdout",
          "text": [
            "   ProductID  SalesAmount Region  SalesWithTax ProductSummary\n",
            "0        101          200  North         220.0    North - 200\n",
            "1        102          150  South         165.0    South - 150\n",
            "2        103          400   West         440.0     West - 400\n",
            "3        104          300   East         330.0     East - 300\n"
          ]
        }
      ]
    },
    {
      "cell_type": "code",
      "source": [
        "# Apply element-wise function to a Series (convert Region names to uppercase)\n",
        "df['Region'] = df['Region'].map(str.upper)\n",
        "print(df)"
      ],
      "metadata": {
        "colab": {
          "base_uri": "https://localhost:8080/"
        },
        "id": "xw9ORw4cobgj",
        "outputId": "f4dc78a4-97a2-4eee-9206-cde95066cf5f"
      },
      "execution_count": 8,
      "outputs": [
        {
          "output_type": "stream",
          "name": "stdout",
          "text": [
            "   ProductID  SalesAmount Region  SalesWithTax ProductSummary\n",
            "0        101          200  NORTH         220.0    North - 200\n",
            "1        102          150  SOUTH         165.0    South - 150\n",
            "2        103          400   WEST         440.0     West - 400\n",
            "3        104          300   EAST         330.0     East - 300\n"
          ]
        }
      ]
    },
    {
      "cell_type": "code",
      "source": [
        "# Apply element-wise function to the entire DataFrame\n",
        "df[['SalesAmount', 'SalesWithTax']] = df[['SalesAmount', 'SalesWithTax']].applymap(lambda x: round(x, 2))\n",
        "print(df)"
      ],
      "metadata": {
        "colab": {
          "base_uri": "https://localhost:8080/"
        },
        "id": "HXNDQ55Bole5",
        "outputId": "33d0a7fd-4c06-4253-d12b-fdecab65e654"
      },
      "execution_count": 9,
      "outputs": [
        {
          "output_type": "stream",
          "name": "stdout",
          "text": [
            "   ProductID  SalesAmount Region  SalesWithTax ProductSummary\n",
            "0        101          200  NORTH         220.0    North - 200\n",
            "1        102          150  SOUTH         165.0    South - 150\n",
            "2        103          400   WEST         440.0     West - 400\n",
            "3        104          300   EAST         330.0     East - 300\n"
          ]
        },
        {
          "output_type": "stream",
          "name": "stderr",
          "text": [
            "<ipython-input-9-e8ce814ded68>:2: FutureWarning: DataFrame.applymap has been deprecated. Use DataFrame.map instead.\n",
            "  df[['SalesAmount', 'SalesWithTax']] = df[['SalesAmount', 'SalesWithTax']].applymap(lambda x: round(x, 2))\n"
          ]
        }
      ]
    },
    {
      "cell_type": "code",
      "source": [
        "# Group by Region and calculate the sum of SalesAmount for each region\n",
        "grouped = df.groupby('Region')['SalesAmount'].sum()\n",
        "print(grouped)"
      ],
      "metadata": {
        "colab": {
          "base_uri": "https://localhost:8080/"
        },
        "id": "F-Ij31JAo2Z4",
        "outputId": "652ad98c-af7b-4c4f-e37b-b0ffad0eb05d"
      },
      "execution_count": 10,
      "outputs": [
        {
          "output_type": "stream",
          "name": "stdout",
          "text": [
            "Region\n",
            "EAST     300\n",
            "NORTH    200\n",
            "SOUTH    150\n",
            "WEST     400\n",
            "Name: SalesAmount, dtype: int64\n"
          ]
        }
      ]
    },
    {
      "cell_type": "code",
      "source": [
        "# Group by Region and apply multiple aggregation functions\n",
        "grouped_multi = df.groupby('Region').agg({\n",
        "    'SalesAmount': ['sum', 'mean', 'count']\n",
        "})\n",
        "print(grouped_multi)"
      ],
      "metadata": {
        "colab": {
          "base_uri": "https://localhost:8080/"
        },
        "id": "GQsI_--Vpqu_",
        "outputId": "8b8a6104-77ab-40c8-a9f8-705c21c2e824"
      },
      "execution_count": 11,
      "outputs": [
        {
          "output_type": "stream",
          "name": "stdout",
          "text": [
            "       SalesAmount             \n",
            "               sum   mean count\n",
            "Region                         \n",
            "EAST           300  300.0     1\n",
            "NORTH          200  200.0     1\n",
            "SOUTH          150  150.0     1\n",
            "WEST           400  400.0     1\n"
          ]
        }
      ]
    },
    {
      "cell_type": "code",
      "source": [
        "# Create a pivot table that groups by Region and calculates the sum of SalesAmount\n",
        "pivot = pd.pivot_table(df, values='SalesAmount', index='Region', aggfunc='sum')\n",
        "print(pivot)"
      ],
      "metadata": {
        "colab": {
          "base_uri": "https://localhost:8080/"
        },
        "id": "6JGl17HIp-C2",
        "outputId": "ac602477-2380-498b-e31d-cba5cb193a49"
      },
      "execution_count": 12,
      "outputs": [
        {
          "output_type": "stream",
          "name": "stdout",
          "text": [
            "        SalesAmount\n",
            "Region             \n",
            "EAST            300\n",
            "NORTH           200\n",
            "SOUTH           150\n",
            "WEST            400\n"
          ]
        }
      ]
    },
    {
      "cell_type": "code",
      "source": [
        "# Create a pivot table with multiple aggregation functions\n",
        "pivot_multi = pd.pivot_table(df, values='SalesAmount', index='Region', aggfunc=['sum', 'mean'])\n",
        "print(pivot_multi)"
      ],
      "metadata": {
        "colab": {
          "base_uri": "https://localhost:8080/"
        },
        "id": "sSZjn3jrqi4o",
        "outputId": "4fe2184a-da3e-4bfd-b569-9e5265e62581"
      },
      "execution_count": 13,
      "outputs": [
        {
          "output_type": "stream",
          "name": "stdout",
          "text": [
            "               sum        mean\n",
            "       SalesAmount SalesAmount\n",
            "Region                        \n",
            "EAST           300       300.0\n",
            "NORTH          200       200.0\n",
            "SOUTH          150       150.0\n",
            "WEST           400       400.0\n"
          ]
        }
      ]
    },
    {
      "cell_type": "code",
      "source": [
        "# Create a crosstab showing the frequency of each Region and SalesAmount range\n",
        "df['SalesCategory'] = pd.cut(df['SalesAmount'], bins=[0, 200, 300, 500], labels=['Low', 'Medium', 'High'])\n",
        "cross_tab = pd.crosstab(df['Region'], df['SalesCategory'])\n",
        "print(cross_tab)"
      ],
      "metadata": {
        "colab": {
          "base_uri": "https://localhost:8080/"
        },
        "id": "SlitGMxKqpq9",
        "outputId": "9fedeeb2-66c3-4023-aa53-bad23f128ff4"
      },
      "execution_count": 14,
      "outputs": [
        {
          "output_type": "stream",
          "name": "stdout",
          "text": [
            "SalesCategory  Low  Medium  High\n",
            "Region                          \n",
            "EAST             0       1     0\n",
            "NORTH            1       0     0\n",
            "SOUTH            1       0     0\n",
            "WEST             0       0     1\n"
          ]
        }
      ]
    },
    {
      "cell_type": "code",
      "source": [
        "# Detect duplicate rows based on all columns\n",
        "duplicates = df.duplicated()\n",
        "print(duplicates)"
      ],
      "metadata": {
        "colab": {
          "base_uri": "https://localhost:8080/"
        },
        "id": "VyQastIvqvAf",
        "outputId": "68fa3125-73fb-4b38-b82b-98071038fa3e"
      },
      "execution_count": 15,
      "outputs": [
        {
          "output_type": "stream",
          "name": "stdout",
          "text": [
            "0    False\n",
            "1    False\n",
            "2    False\n",
            "3    False\n",
            "dtype: bool\n"
          ]
        }
      ]
    },
    {
      "cell_type": "code",
      "source": [
        "# Remove duplicate rows based on the Region column\n",
        "df_no_duplicates = df.drop_duplicates(subset='Region')\n",
        "print(df_no_duplicates)"
      ],
      "metadata": {
        "colab": {
          "base_uri": "https://localhost:8080/"
        },
        "id": "gQWFU0A5rReV",
        "outputId": "70c077f9-7c38-4e15-ad9b-20bcd8abb829"
      },
      "execution_count": 16,
      "outputs": [
        {
          "output_type": "stream",
          "name": "stdout",
          "text": [
            "   ProductID  SalesAmount Region  SalesWithTax ProductSummary SalesCategory\n",
            "0        101          200  NORTH         220.0    North - 200           Low\n",
            "1        102          150  SOUTH         165.0    South - 150           Low\n",
            "2        103          400   WEST         440.0     West - 400          High\n",
            "3        104          300   EAST         330.0     East - 300        Medium\n"
          ]
        }
      ]
    },
    {
      "cell_type": "code",
      "source": [
        "# Calculate the mean SalesAmount\n",
        "mean_sales = df['SalesAmount'].mean()\n",
        "print(f\"Mean SalesAmount: {mean_sales}\")\n",
        "\n",
        "# Calculate the sum of SalesAmount\n",
        "total_sales = df['SalesAmount'].sum()\n",
        "print(f\"Total SalesAmount: {total_sales}\")\n",
        "\n",
        "# Calculate the standard deviation of SalesAmount\n",
        "std_sales = df['SalesAmount'].std()\n",
        "print(f\"Standard Deviation of SalesAmount: {std_sales}\")"
      ],
      "metadata": {
        "colab": {
          "base_uri": "https://localhost:8080/"
        },
        "id": "vxfNU028rdmr",
        "outputId": "808dbf38-6cf9-40e3-ee97-1cf8e7f2f7bb"
      },
      "execution_count": 17,
      "outputs": [
        {
          "output_type": "stream",
          "name": "stdout",
          "text": [
            "Mean SalesAmount: 262.5\n",
            "Total SalesAmount: 1050\n",
            "Standard Deviation of SalesAmount: 110.86778913041725\n"
          ]
        }
      ]
    },
    {
      "cell_type": "code",
      "source": [
        "# Generate descriptive statistics for numerical columns\n",
        "summary = df.describe()\n",
        "print(summary)"
      ],
      "metadata": {
        "colab": {
          "base_uri": "https://localhost:8080/"
        },
        "id": "9XtGw2__rpNP",
        "outputId": "f2145316-3a45-49c8-8959-cb4276387b49"
      },
      "execution_count": 18,
      "outputs": [
        {
          "output_type": "stream",
          "name": "stdout",
          "text": [
            "        ProductID  SalesAmount  SalesWithTax\n",
            "count    4.000000     4.000000      4.000000\n",
            "mean   102.500000   262.500000    288.750000\n",
            "std      1.290994   110.867789    121.954568\n",
            "min    101.000000   150.000000    165.000000\n",
            "25%    101.750000   187.500000    206.250000\n",
            "50%    102.500000   250.000000    275.000000\n",
            "75%    103.250000   325.000000    357.500000\n",
            "max    104.000000   400.000000    440.000000\n"
          ]
        }
      ]
    },
    {
      "cell_type": "code",
      "source": [
        "# Handling Missing Data\n",
        "# -Identifying missing data,\n",
        "# -Removing missing data,\n",
        "# -Imputing missing data,\n",
        "# -Forward and backward filling,\n",
        "# -Advanced techniques: Interpolation and filling based on conditions."
      ],
      "metadata": {
        "id": "o9Gt9KX6rvhb"
      },
      "execution_count": 20,
      "outputs": []
    },
    {
      "cell_type": "code",
      "source": [
        "import pandas as pd\n",
        "\n",
        "# Sample DataFrame with missing values\n",
        "data = {\n",
        "    \"ProductID\": [101, 102, 103, 104],\n",
        "    \"SalesAmount\": [200, None, 400, 300],\n",
        "    \"Region\": [\"North\", \"South\", None, \"East\"]\n",
        "}\n",
        "\n",
        "df = pd.DataFrame(data)\n",
        "\n",
        "# Check for missing values\n",
        "print(df.isnull())\n",
        "\n",
        "# Summarize missing values by column\n",
        "print(df.isnull().sum())"
      ],
      "metadata": {
        "colab": {
          "base_uri": "https://localhost:8080/"
        },
        "id": "FzNZATeUr-TA",
        "outputId": "becc261c-ea5b-4273-fb4b-946c66c45b34"
      },
      "execution_count": 21,
      "outputs": [
        {
          "output_type": "stream",
          "name": "stdout",
          "text": [
            "   ProductID  SalesAmount  Region\n",
            "0      False        False   False\n",
            "1      False         True   False\n",
            "2      False        False    True\n",
            "3      False        False   False\n",
            "ProductID      0\n",
            "SalesAmount    1\n",
            "Region         1\n",
            "dtype: int64\n"
          ]
        }
      ]
    },
    {
      "cell_type": "code",
      "source": [
        "# Remove rows with any missing values\n",
        "df_cleaned_rows = df.dropna()\n",
        "print(df_cleaned_rows)"
      ],
      "metadata": {
        "colab": {
          "base_uri": "https://localhost:8080/"
        },
        "id": "VlzeuJoLsvx3",
        "outputId": "296a06f8-51ed-433a-bd1d-1994bb45fb07"
      },
      "execution_count": 22,
      "outputs": [
        {
          "output_type": "stream",
          "name": "stdout",
          "text": [
            "   ProductID  SalesAmount Region\n",
            "0        101        200.0  North\n",
            "3        104        300.0   East\n"
          ]
        }
      ]
    },
    {
      "cell_type": "code",
      "source": [
        "# Remove columns with any missing values\n",
        "df_cleaned_columns = df.dropna(axis=1)\n",
        "print(df_cleaned_columns)"
      ],
      "metadata": {
        "colab": {
          "base_uri": "https://localhost:8080/"
        },
        "id": "IQOOBc2ds9Ug",
        "outputId": "c7c59f8e-702f-4e87-e962-bb00011bb4ed"
      },
      "execution_count": 23,
      "outputs": [
        {
          "output_type": "stream",
          "name": "stdout",
          "text": [
            "   ProductID\n",
            "0        101\n",
            "1        102\n",
            "2        103\n",
            "3        104\n"
          ]
        }
      ]
    },
    {
      "cell_type": "code",
      "source": [
        "# Keep rows with at least 2 non-NaN values\n",
        "df_thresh = df.dropna(thresh=2)\n",
        "print(df_thresh)"
      ],
      "metadata": {
        "colab": {
          "base_uri": "https://localhost:8080/"
        },
        "id": "CHyewopEtDoQ",
        "outputId": "2a283c88-9596-4d9a-c8ff-e7765fbc250e"
      },
      "execution_count": 24,
      "outputs": [
        {
          "output_type": "stream",
          "name": "stdout",
          "text": [
            "   ProductID  SalesAmount Region\n",
            "0        101        200.0  North\n",
            "1        102          NaN  South\n",
            "2        103        400.0   None\n",
            "3        104        300.0   East\n"
          ]
        }
      ]
    },
    {
      "cell_type": "code",
      "source": [
        "# Fill missing SalesAmount with the mean of the column\n",
        "mean_sales = df['SalesAmount'].mean()\n",
        "df_filled = df['SalesAmount'].fillna(mean_sales)\n",
        "print(df_filled)"
      ],
      "metadata": {
        "colab": {
          "base_uri": "https://localhost:8080/"
        },
        "id": "DSQ8QfmAtKSk",
        "outputId": "7d41d363-24f9-4102-946f-6127b66d5f17"
      },
      "execution_count": 25,
      "outputs": [
        {
          "output_type": "stream",
          "name": "stdout",
          "text": [
            "0    200.0\n",
            "1    300.0\n",
            "2    400.0\n",
            "3    300.0\n",
            "Name: SalesAmount, dtype: float64\n"
          ]
        }
      ]
    },
    {
      "cell_type": "code",
      "source": [
        "# Fill missing Region values with 'Unknown'\n",
        "df['Region'] = df['Region'].fillna('Unknown')\n",
        "print(df)"
      ],
      "metadata": {
        "colab": {
          "base_uri": "https://localhost:8080/"
        },
        "id": "LqPKDhA_tWDQ",
        "outputId": "80eaa2bc-96bd-4b35-9066-c8370fdc4f94"
      },
      "execution_count": 26,
      "outputs": [
        {
          "output_type": "stream",
          "name": "stdout",
          "text": [
            "   ProductID  SalesAmount   Region\n",
            "0        101        200.0    North\n",
            "1        102          NaN    South\n",
            "2        103        400.0  Unknown\n",
            "3        104        300.0     East\n"
          ]
        }
      ]
    },
    {
      "cell_type": "code",
      "source": [
        "# Fill missing SalesAmount with mean, and Region with 'Unknown'\n",
        "df_filled = df.fillna({'SalesAmount': df['SalesAmount'].mean(), 'Region': 'Unknown'})\n",
        "print(df_filled)"
      ],
      "metadata": {
        "colab": {
          "base_uri": "https://localhost:8080/"
        },
        "id": "MtV7YycrteyW",
        "outputId": "05311af8-5399-47d4-e8ba-adbfdf81a665"
      },
      "execution_count": 27,
      "outputs": [
        {
          "output_type": "stream",
          "name": "stdout",
          "text": [
            "   ProductID  SalesAmount   Region\n",
            "0        101        200.0    North\n",
            "1        102        300.0    South\n",
            "2        103        400.0  Unknown\n",
            "3        104        300.0     East\n"
          ]
        }
      ]
    },
    {
      "cell_type": "code",
      "source": [
        "# Forward fill missing values\n",
        "df_filled_forward = df.fillna(method='ffill')\n",
        "print(df_filled_forward)"
      ],
      "metadata": {
        "colab": {
          "base_uri": "https://localhost:8080/"
        },
        "id": "mHXCu4_jtmbq",
        "outputId": "f770e670-0e66-483f-e24a-5db269f48868"
      },
      "execution_count": 28,
      "outputs": [
        {
          "output_type": "stream",
          "name": "stdout",
          "text": [
            "   ProductID  SalesAmount   Region\n",
            "0        101        200.0    North\n",
            "1        102        200.0    South\n",
            "2        103        400.0  Unknown\n",
            "3        104        300.0     East\n"
          ]
        },
        {
          "output_type": "stream",
          "name": "stderr",
          "text": [
            "<ipython-input-28-fe1138b30a6c>:2: FutureWarning: DataFrame.fillna with 'method' is deprecated and will raise in a future version. Use obj.ffill() or obj.bfill() instead.\n",
            "  df_filled_forward = df.fillna(method='ffill')\n"
          ]
        }
      ]
    },
    {
      "cell_type": "code",
      "source": [
        "# Backward fill missing values\n",
        "df_filled_backward = df.fillna(method='bfill')\n",
        "print(df_filled_backward)"
      ],
      "metadata": {
        "colab": {
          "base_uri": "https://localhost:8080/"
        },
        "id": "yyL3xvhztvy9",
        "outputId": "fd9aa451-f9c9-4734-c4ea-823d72d772fb"
      },
      "execution_count": 29,
      "outputs": [
        {
          "output_type": "stream",
          "name": "stdout",
          "text": [
            "   ProductID  SalesAmount   Region\n",
            "0        101        200.0    North\n",
            "1        102        400.0    South\n",
            "2        103        400.0  Unknown\n",
            "3        104        300.0     East\n"
          ]
        },
        {
          "output_type": "stream",
          "name": "stderr",
          "text": [
            "<ipython-input-29-08be9f1317ba>:2: FutureWarning: DataFrame.fillna with 'method' is deprecated and will raise in a future version. Use obj.ffill() or obj.bfill() instead.\n",
            "  df_filled_backward = df.fillna(method='bfill')\n"
          ]
        }
      ]
    },
    {
      "cell_type": "code",
      "source": [
        "# Interpolating missing values\n",
        "df_interpolated = df['SalesAmount'].interpolate()\n",
        "print(df_interpolated)"
      ],
      "metadata": {
        "colab": {
          "base_uri": "https://localhost:8080/"
        },
        "id": "JpPK1Yott1Rx",
        "outputId": "5f0c8d0f-b37a-4e9f-ba29-912f67739f57"
      },
      "execution_count": 30,
      "outputs": [
        {
          "output_type": "stream",
          "name": "stdout",
          "text": [
            "0    200.0\n",
            "1    300.0\n",
            "2    400.0\n",
            "3    300.0\n",
            "Name: SalesAmount, dtype: float64\n"
          ]
        }
      ]
    },
    {
      "cell_type": "code",
      "source": [
        "# Polynomial interpolation (degree 2)\n",
        "df_interpolated_poly = df['SalesAmount'].interpolate(method='polynomial', order=2)\n",
        "print(df_interpolated_poly)\n",
        "# This method is useful when the data follows a non-linear trend."
      ],
      "metadata": {
        "colab": {
          "base_uri": "https://localhost:8080/"
        },
        "id": "tcaJDNPxufyg",
        "outputId": "84c4aae8-1a1e-44b8-f95e-4f7109ede32f"
      },
      "execution_count": 31,
      "outputs": [
        {
          "output_type": "stream",
          "name": "stdout",
          "text": [
            "0    200.000000\n",
            "1    366.666667\n",
            "2    400.000000\n",
            "3    300.000000\n",
            "Name: SalesAmount, dtype: float64\n"
          ]
        }
      ]
    },
    {
      "cell_type": "code",
      "source": [
        "# Advanced DataFrame Operations\n",
        "  # - Merging DataFrames\n",
        "  # -Concatenating DataFrames\n",
        "  # -Joining DataFrames\n",
        "  # -Reshaping DataFrames\n",
        "  # -Stacking and Unstacking\n",
        "  # -Pivoting and Melting Data"
      ],
      "metadata": {
        "id": "hsCjgppru47x"
      },
      "execution_count": 33,
      "outputs": []
    },
    {
      "cell_type": "code",
      "source": [
        "import pandas as pd\n",
        "\n",
        "# Create two sample DataFrames\n",
        "df1 = pd.DataFrame({\n",
        "    'ProductID': [101, 102, 103],\n",
        "    'SalesAmount': [200, 150, 400]\n",
        "})\n",
        "\n",
        "df2 = pd.DataFrame({\n",
        "    'ProductID': [102, 103, 104],\n",
        "    'Region': ['North', 'South', 'East']\n",
        "})\n",
        "\n",
        "# Perform an inner join on the 'ProductID' column\n",
        "df_merged_inner = pd.merge(df1, df2, on='ProductID', how='inner')\n",
        "print(df_merged_inner)"
      ],
      "metadata": {
        "colab": {
          "base_uri": "https://localhost:8080/"
        },
        "id": "QaGAUJ0wvQMs",
        "outputId": "92e7e751-983e-45cc-8cee-f4e880824fc7"
      },
      "execution_count": 34,
      "outputs": [
        {
          "output_type": "stream",
          "name": "stdout",
          "text": [
            "   ProductID  SalesAmount Region\n",
            "0        102          150  North\n",
            "1        103          400  South\n"
          ]
        }
      ]
    },
    {
      "cell_type": "code",
      "source": [
        "# Perform a left join on the 'ProductID' column\n",
        "df_merged_left = pd.merge(df1, df2, on='ProductID', how='left')\n",
        "print(df_merged_left)"
      ],
      "metadata": {
        "colab": {
          "base_uri": "https://localhost:8080/"
        },
        "id": "LWEzfDZnvqzI",
        "outputId": "b64d6238-1d18-4824-aee0-6f1182865a3c"
      },
      "execution_count": 35,
      "outputs": [
        {
          "output_type": "stream",
          "name": "stdout",
          "text": [
            "   ProductID  SalesAmount Region\n",
            "0        101          200    NaN\n",
            "1        102          150  North\n",
            "2        103          400  South\n"
          ]
        }
      ]
    },
    {
      "cell_type": "code",
      "source": [
        "# Perform a right join on the 'ProductID' column\n",
        "df_merged_right = pd.merge(df1, df2, on='ProductID', how='right')\n",
        "print(df_merged_right)"
      ],
      "metadata": {
        "colab": {
          "base_uri": "https://localhost:8080/"
        },
        "id": "iptGu5xIvx_i",
        "outputId": "83eeae6b-4559-4904-e73a-7be6a46d6f42"
      },
      "execution_count": 36,
      "outputs": [
        {
          "output_type": "stream",
          "name": "stdout",
          "text": [
            "   ProductID  SalesAmount Region\n",
            "0        102        150.0  North\n",
            "1        103        400.0  South\n",
            "2        104          NaN   East\n"
          ]
        }
      ]
    },
    {
      "cell_type": "code",
      "source": [
        "# Perform an outer join on the 'ProductID' column\n",
        "df_merged_outer = pd.merge(df1, df2, on='ProductID', how='outer')\n",
        "print(df_merged_outer)"
      ],
      "metadata": {
        "colab": {
          "base_uri": "https://localhost:8080/"
        },
        "id": "fS-fQewzv5xw",
        "outputId": "7b3a6160-86bb-4d88-8c5b-6111cd805bbb"
      },
      "execution_count": 37,
      "outputs": [
        {
          "output_type": "stream",
          "name": "stdout",
          "text": [
            "   ProductID  SalesAmount Region\n",
            "0        101        200.0    NaN\n",
            "1        102        150.0  North\n",
            "2        103        400.0  South\n",
            "3        104          NaN   East\n"
          ]
        }
      ]
    },
    {
      "cell_type": "code",
      "source": [
        "# Create another DataFrame to concatenate\n",
        "df3 = pd.DataFrame({\n",
        "    'ProductID': [105, 106],\n",
        "    'SalesAmount': [250, 350]\n",
        "})\n",
        "\n",
        "# Concatenate df1 and df3 vertically\n",
        "df_concatenated = pd.concat([df1, df3], ignore_index=True)\n",
        "print(df_concatenated)"
      ],
      "metadata": {
        "colab": {
          "base_uri": "https://localhost:8080/"
        },
        "id": "hEqS_u8hwAiz",
        "outputId": "4d5b5ff4-9427-4efc-ab03-2d5e10eeee22"
      },
      "execution_count": 38,
      "outputs": [
        {
          "output_type": "stream",
          "name": "stdout",
          "text": [
            "   ProductID  SalesAmount\n",
            "0        101          200\n",
            "1        102          150\n",
            "2        103          400\n",
            "3        105          250\n",
            "4        106          350\n"
          ]
        }
      ]
    },
    {
      "cell_type": "code",
      "source": [
        "# Concatenate df1 and df2 horizontally\n",
        "df_concat_horizontal = pd.concat([df1, df2], axis=1) #axis=1 specifies that the DataFrames should be concatenated along columns.\n",
        "print(df_concat_horizontal)"
      ],
      "metadata": {
        "colab": {
          "base_uri": "https://localhost:8080/"
        },
        "id": "zx3uITQ7wJeS",
        "outputId": "f1c6380e-b8f6-4989-dad1-86200810b7e6"
      },
      "execution_count": 39,
      "outputs": [
        {
          "output_type": "stream",
          "name": "stdout",
          "text": [
            "   ProductID  SalesAmount  ProductID Region\n",
            "0        101          200        102  North\n",
            "1        102          150        103  South\n",
            "2        103          400        104   East\n"
          ]
        }
      ]
    },
    {
      "cell_type": "code",
      "source": [
        "# Set ProductID as the index for both DataFrames\n",
        "df1.set_index('ProductID', inplace=True)\n",
        "df2.set_index('ProductID', inplace=True)\n",
        "\n",
        "# Join df1 and df2 based on their indices\n",
        "df_joined = df1.join(df2, how='inner')\n",
        "print(df_joined)"
      ],
      "metadata": {
        "colab": {
          "base_uri": "https://localhost:8080/"
        },
        "id": "SPeWMdgPwSR2",
        "outputId": "4fa2b447-33b0-4a8a-ea64-a49753ed039f"
      },
      "execution_count": 40,
      "outputs": [
        {
          "output_type": "stream",
          "name": "stdout",
          "text": [
            "           SalesAmount Region\n",
            "ProductID                    \n",
            "102                150  North\n",
            "103                400  South\n"
          ]
        }
      ]
    },
    {
      "cell_type": "code",
      "source": [
        "# Sample data for pivoting\n",
        "data = {\n",
        "    \"Date\": [\"2024-01-01\", \"2024-01-01\", \"2024-01-02\", \"2024-01-02\"],\n",
        "    \"Product\": [\"A\", \"B\", \"A\", \"B\"],\n",
        "    \"SalesAmount\": [100, 200, 150, 250]\n",
        "}\n",
        "\n",
        "df = pd.DataFrame(data)\n",
        "\n",
        "# Pivot the DataFrame\n",
        "df_pivot = df.pivot(index='Date', columns='Product', values='SalesAmount')\n",
        "print(df_pivot)\n",
        "# The pivot() function is used to create a new table where a column’s unique values become new columns,\n",
        "#  and you can set other columns as the index and values."
      ],
      "metadata": {
        "colab": {
          "base_uri": "https://localhost:8080/"
        },
        "id": "rijIoLDtx68k",
        "outputId": "6ef9277d-68a2-41b0-86a6-95a62f0cfd3f"
      },
      "execution_count": 41,
      "outputs": [
        {
          "output_type": "stream",
          "name": "stdout",
          "text": [
            "Product       A    B\n",
            "Date                \n",
            "2024-01-01  100  200\n",
            "2024-01-02  150  250\n"
          ]
        }
      ]
    },
    {
      "cell_type": "code",
      "source": [
        "# Melting the pivoted DataFrame back to long format\n",
        "df_melted = pd.melt(df_pivot.reset_index(), id_vars='Date', value_vars=['A', 'B'], var_name='Product', value_name='SalesAmount')\n",
        "print(df_melted)\n",
        "# melt() function is useful when you want to convert columns into rows."
      ],
      "metadata": {
        "colab": {
          "base_uri": "https://localhost:8080/"
        },
        "id": "Vb-ssXzpyOwI",
        "outputId": "b5386145-2f72-4d1d-ba61-d56ae35372a8"
      },
      "execution_count": 42,
      "outputs": [
        {
          "output_type": "stream",
          "name": "stdout",
          "text": [
            "         Date Product  SalesAmount\n",
            "0  2024-01-01       A          100\n",
            "1  2024-01-02       A          150\n",
            "2  2024-01-01       B          200\n",
            "3  2024-01-02       B          250\n"
          ]
        }
      ]
    },
    {
      "cell_type": "code",
      "source": [
        "# Stacking and unstacking are used to reshape DataFrames\n",
        "# by moving the innermost columns to become the innermost row index (stacking)\n",
        "# or moving the innermost row index to become the innermost columns (unstacking)"
      ],
      "metadata": {
        "id": "ghKfuNBhyPqi"
      },
      "execution_count": null,
      "outputs": []
    },
    {
      "cell_type": "code",
      "source": [
        "# Sample DataFrame with multi-level columns\n",
        "df_multi = pd.DataFrame({\n",
        "    ('Region', 'North'): [200, 300],\n",
        "    ('Region', 'South'): [150, 400]\n",
        "}, index=['Product1', 'Product2'])\n",
        "\n",
        "# Stack the DataFrame\n",
        "df_stacked = df_multi.stack()\n",
        "print(df_stacked)"
      ],
      "metadata": {
        "colab": {
          "base_uri": "https://localhost:8080/"
        },
        "id": "dyriy-G00LP3",
        "outputId": "8bcb3bd5-6a33-4780-f79a-e3e72f2f3a50"
      },
      "execution_count": 43,
      "outputs": [
        {
          "output_type": "stream",
          "name": "stdout",
          "text": [
            "                Region\n",
            "Product1 North     200\n",
            "         South     150\n",
            "Product2 North     300\n",
            "         South     400\n"
          ]
        },
        {
          "output_type": "stream",
          "name": "stderr",
          "text": [
            "<ipython-input-43-e22a3f6fdf57>:8: FutureWarning: The previous implementation of stack is deprecated and will be removed in a future version of pandas. See the What's New notes for pandas 2.1.0 for details. Specify future_stack=True to adopt the new implementation and silence this warning.\n",
            "  df_stacked = df_multi.stack()\n"
          ]
        }
      ]
    },
    {
      "cell_type": "code",
      "source": [
        "# Unstack the stacked DataFrame\n",
        "df_unstacked = df_stacked.unstack()\n",
        "print(df_unstacked)"
      ],
      "metadata": {
        "colab": {
          "base_uri": "https://localhost:8080/"
        },
        "id": "JVkIofn70veT",
        "outputId": "20ba527d-e9bf-4ff5-8ec2-77cb2baefa58"
      },
      "execution_count": 45,
      "outputs": [
        {
          "output_type": "stream",
          "name": "stdout",
          "text": [
            "         SalesAmount      \n",
            "               North South\n",
            "Product1         200   150\n",
            "Product2         300   400\n"
          ]
        }
      ]
    },
    {
      "cell_type": "code",
      "source": [
        "# Create a pivot table with aggregation\n",
        "df_pivot_table = pd.pivot_table(df_concat_horizontal, values='SalesAmount',  columns='Region', aggfunc='sum')\n",
        "print(df_pivot_table)\n",
        "# The pivot_table() function is an extension of pivot() that allows you to aggregate data while reshaping it."
      ],
      "metadata": {
        "colab": {
          "base_uri": "https://localhost:8080/"
        },
        "id": "50pJ0IvP04cR",
        "outputId": "c94a43cd-eb19-4ddb-db6a-1d591bbe921f"
      },
      "execution_count": 48,
      "outputs": [
        {
          "output_type": "stream",
          "name": "stdout",
          "text": [
            "Region       East  North  South\n",
            "SalesAmount   400    200    150\n"
          ]
        }
      ]
    },
    {
      "cell_type": "code",
      "source": [
        "# Melting a pivoted DataFrame\n",
        "df_melted = pd.melt(df_pivot_table.reset_index(), id_vars='ProductID', value_vars=['North', 'South', 'East'], var_name='Region', value_name='SalesAmount')\n",
        "print(df_melted)"
      ],
      "metadata": {
        "colab": {
          "base_uri": "https://localhost:8080/",
          "height": 315
        },
        "id": "3ht_f2Np1GIp",
        "outputId": "83e2f777-fb2e-4f5b-d0ec-5985d48f95ea"
      },
      "execution_count": 49,
      "outputs": [
        {
          "output_type": "error",
          "ename": "KeyError",
          "evalue": "\"The following id_vars or value_vars are not present in the DataFrame: ['ProductID']\"",
          "traceback": [
            "\u001b[0;31m---------------------------------------------------------------------------\u001b[0m",
            "\u001b[0;31mKeyError\u001b[0m                                  Traceback (most recent call last)",
            "\u001b[0;32m<ipython-input-49-9a9ac5d15cba>\u001b[0m in \u001b[0;36m<cell line: 2>\u001b[0;34m()\u001b[0m\n\u001b[1;32m      1\u001b[0m \u001b[0;31m# Melting a pivoted DataFrame\u001b[0m\u001b[0;34m\u001b[0m\u001b[0;34m\u001b[0m\u001b[0m\n\u001b[0;32m----> 2\u001b[0;31m \u001b[0mdf_melted\u001b[0m \u001b[0;34m=\u001b[0m \u001b[0mpd\u001b[0m\u001b[0;34m.\u001b[0m\u001b[0mmelt\u001b[0m\u001b[0;34m(\u001b[0m\u001b[0mdf_pivot_table\u001b[0m\u001b[0;34m.\u001b[0m\u001b[0mreset_index\u001b[0m\u001b[0;34m(\u001b[0m\u001b[0;34m)\u001b[0m\u001b[0;34m,\u001b[0m \u001b[0mid_vars\u001b[0m\u001b[0;34m=\u001b[0m\u001b[0;34m'ProductID'\u001b[0m\u001b[0;34m,\u001b[0m \u001b[0mvalue_vars\u001b[0m\u001b[0;34m=\u001b[0m\u001b[0;34m[\u001b[0m\u001b[0;34m'North'\u001b[0m\u001b[0;34m,\u001b[0m \u001b[0;34m'South'\u001b[0m\u001b[0;34m,\u001b[0m \u001b[0;34m'East'\u001b[0m\u001b[0;34m]\u001b[0m\u001b[0;34m,\u001b[0m \u001b[0mvar_name\u001b[0m\u001b[0;34m=\u001b[0m\u001b[0;34m'Region'\u001b[0m\u001b[0;34m,\u001b[0m \u001b[0mvalue_name\u001b[0m\u001b[0;34m=\u001b[0m\u001b[0;34m'SalesAmount'\u001b[0m\u001b[0;34m)\u001b[0m\u001b[0;34m\u001b[0m\u001b[0;34m\u001b[0m\u001b[0m\n\u001b[0m\u001b[1;32m      3\u001b[0m \u001b[0mprint\u001b[0m\u001b[0;34m(\u001b[0m\u001b[0mdf_melted\u001b[0m\u001b[0;34m)\u001b[0m\u001b[0;34m\u001b[0m\u001b[0;34m\u001b[0m\u001b[0m\n",
            "\u001b[0;32m/usr/local/lib/python3.10/dist-packages/pandas/core/reshape/melt.py\u001b[0m in \u001b[0;36mmelt\u001b[0;34m(frame, id_vars, value_vars, var_name, value_name, col_level, ignore_index)\u001b[0m\n\u001b[1;32m     72\u001b[0m                 \u001b[0mlab\u001b[0m \u001b[0;32mfor\u001b[0m \u001b[0mlab\u001b[0m\u001b[0;34m,\u001b[0m \u001b[0mnot_found\u001b[0m \u001b[0;32min\u001b[0m \u001b[0mzip\u001b[0m\u001b[0;34m(\u001b[0m\u001b[0mlabels\u001b[0m\u001b[0;34m,\u001b[0m \u001b[0mmissing\u001b[0m\u001b[0;34m)\u001b[0m \u001b[0;32mif\u001b[0m \u001b[0mnot_found\u001b[0m\u001b[0;34m\u001b[0m\u001b[0;34m\u001b[0m\u001b[0m\n\u001b[1;32m     73\u001b[0m             ]\n\u001b[0;32m---> 74\u001b[0;31m             raise KeyError(\n\u001b[0m\u001b[1;32m     75\u001b[0m                 \u001b[0;34m\"The following id_vars or value_vars are not present in \"\u001b[0m\u001b[0;34m\u001b[0m\u001b[0;34m\u001b[0m\u001b[0m\n\u001b[1;32m     76\u001b[0m                 \u001b[0;34mf\"the DataFrame: {missing_labels}\"\u001b[0m\u001b[0;34m\u001b[0m\u001b[0;34m\u001b[0m\u001b[0m\n",
            "\u001b[0;31mKeyError\u001b[0m: \"The following id_vars or value_vars are not present in the DataFrame: ['ProductID']\""
          ]
        }
      ]
    },
    {
      "cell_type": "code",
      "source": [
        "# A NumPy array (or ndarray) is a grid of values, all of the same type, indexed by a tuple of non-negative integers.\n",
        "#  Arrays can be one-dimensional (like a list), two-dimensional (like a table), or even higher dimensions.\n",
        "# NumPy arrays are much faster and more memory-efficient than Python lists, making them ideal for large datasets."
      ],
      "metadata": {
        "id": "EzBS3WSi3DTK"
      },
      "execution_count": null,
      "outputs": []
    },
    {
      "cell_type": "code",
      "source": [
        "import numpy as np\n",
        "\n",
        "# Create a 1D array\n",
        "arr_1d = np.array([1, 2, 3, 4, 5])\n",
        "\n",
        "# Create a 2D array\n",
        "arr_2d = np.array([[1, 2, 3], [4, 5, 6]])\n",
        "\n",
        "print(arr_1d)\n",
        "print(arr_2d)"
      ],
      "metadata": {
        "colab": {
          "base_uri": "https://localhost:8080/"
        },
        "id": "i4otFwTV3YnJ",
        "outputId": "2d031631-e753-4f6f-c547-51ff99092e22"
      },
      "execution_count": 50,
      "outputs": [
        {
          "output_type": "stream",
          "name": "stdout",
          "text": [
            "[1 2 3 4 5]\n",
            "[[1 2 3]\n",
            " [4 5 6]]\n"
          ]
        }
      ]
    },
    {
      "cell_type": "code",
      "source": [
        "arr = np.array([1, 2, 3, 4])\n",
        "\n",
        "# Add 10 to each element\n",
        "arr_add = arr + 10\n",
        "\n",
        "# Multiply each element by 2\n",
        "arr_mult = arr * 2\n",
        "\n",
        "print(arr_add)\n",
        "print(arr_mult)"
      ],
      "metadata": {
        "colab": {
          "base_uri": "https://localhost:8080/"
        },
        "id": "COKbAZc83bM7",
        "outputId": "18acfa33-c84c-4228-f7f7-6640b078af1f"
      },
      "execution_count": 51,
      "outputs": [
        {
          "output_type": "stream",
          "name": "stdout",
          "text": [
            "[11 12 13 14]\n",
            "[2 4 6 8]\n"
          ]
        }
      ]
    },
    {
      "cell_type": "code",
      "source": [
        "arr = np.array([1, 4, 9, 16])\n",
        "\n",
        "# Square root of each element\n",
        "sqrt_arr = np.sqrt(arr)\n",
        "\n",
        "# Natural logarithm of each element\n",
        "log_arr = np.log(arr)\n",
        "\n",
        "print(sqrt_arr)\n",
        "print(log_arr)"
      ],
      "metadata": {
        "colab": {
          "base_uri": "https://localhost:8080/"
        },
        "id": "OFwqq7p-3ijo",
        "outputId": "58a17cb0-8d13-4f25-ab46-82b859ce837f"
      },
      "execution_count": 52,
      "outputs": [
        {
          "output_type": "stream",
          "name": "stdout",
          "text": [
            "[1. 2. 3. 4.]\n",
            "[0.         1.38629436 2.19722458 2.77258872]\n"
          ]
        }
      ]
    },
    {
      "cell_type": "code",
      "source": [
        "arr = np.array([10, 20, 30, 40, 50])\n",
        "\n",
        "# Access specific elements\n",
        "print(arr[0])  # Output: 10\n",
        "print(arr[1:3])  # Output: [20 30]\n",
        "\n",
        "# For 2D arrays\n",
        "arr_2d = np.array([[1, 2, 3], [4, 5, 6]])\n",
        "\n",
        "# Accessing rows and columns\n",
        "print(arr_2d[0, :])  # First row\n",
        "print(arr_2d[:, 1])  # Second column"
      ],
      "metadata": {
        "colab": {
          "base_uri": "https://localhost:8080/"
        },
        "id": "0VWosBCs3qsQ",
        "outputId": "20721cfb-5565-40dd-ba56-89d667fe6c4e"
      },
      "execution_count": 53,
      "outputs": [
        {
          "output_type": "stream",
          "name": "stdout",
          "text": [
            "10\n",
            "[20 30]\n",
            "[1 2 3]\n",
            "[2 5]\n"
          ]
        }
      ]
    },
    {
      "cell_type": "code",
      "source": [
        "# broadcasting - when you want to perform operations on arrays of different dimensions.\n",
        "arr_1 = np.array([1, 2, 3])\n",
        "arr_2 = np.array([[10], [20], [30]])\n",
        "\n",
        "# Broadcasting addition\n",
        "result = arr_1 + arr_2\n",
        "print(result)"
      ],
      "metadata": {
        "colab": {
          "base_uri": "https://localhost:8080/"
        },
        "id": "4M22VAn44ViV",
        "outputId": "86df8fd0-edfc-43d1-8a65-f9abea256b7a"
      },
      "execution_count": 55,
      "outputs": [
        {
          "output_type": "stream",
          "name": "stdout",
          "text": [
            "[[11 12 13]\n",
            " [21 22 23]\n",
            " [31 32 33]]\n"
          ]
        }
      ]
    },
    {
      "cell_type": "code",
      "source": [
        "arr = np.array([1, 2, 3, 4, 5])\n",
        "\n",
        "# Mean and Sum\n",
        "mean_val = np.mean(arr)\n",
        "sum_val = np.sum(arr)\n",
        "std_val = np.std(arr)\n",
        "print(mean_val)\n",
        "print(sum_val)\n",
        "print(std_val)"
      ],
      "metadata": {
        "colab": {
          "base_uri": "https://localhost:8080/"
        },
        "id": "SRmYTflY5_r1",
        "outputId": "03cd744d-2e4d-4614-a856-ec4f6e987e2d"
      },
      "execution_count": 57,
      "outputs": [
        {
          "output_type": "stream",
          "name": "stdout",
          "text": [
            "3.0\n",
            "15\n",
            "1.4142135623730951\n"
          ]
        }
      ]
    },
    {
      "cell_type": "code",
      "source": [
        "arr = np.array([1, 2, 3, 4, 5, 6])\n",
        "\n",
        "# Reshape into a 2x3 array\n",
        "arr_reshaped = arr.reshape(2, 3)\n",
        "print(arr_reshaped)"
      ],
      "metadata": {
        "colab": {
          "base_uri": "https://localhost:8080/"
        },
        "id": "Uql9Jc5h6jYp",
        "outputId": "f8db3a34-a979-4425-bee4-bb28c7f83cae"
      },
      "execution_count": 58,
      "outputs": [
        {
          "output_type": "stream",
          "name": "stdout",
          "text": [
            "[[1 2 3]\n",
            " [4 5 6]]\n"
          ]
        }
      ]
    },
    {
      "cell_type": "code",
      "source": [
        "# Generate an array of random numbers between 0 and 1\n",
        "random_arr = np.random.rand(3, 3)\n",
        "print(random_arr)\n",
        "\n",
        "# Generate random integers\n",
        "random_ints = np.random.randint(1, 10, size=(2, 3))\n",
        "print(random_ints)"
      ],
      "metadata": {
        "colab": {
          "base_uri": "https://localhost:8080/"
        },
        "id": "XLQzZx7h6l_i",
        "outputId": "13305180-56ed-477a-b517-117b8fe89310"
      },
      "execution_count": 59,
      "outputs": [
        {
          "output_type": "stream",
          "name": "stdout",
          "text": [
            "[[0.46230002 0.27389184 0.54647073]\n",
            " [0.15263378 0.22072112 0.19662434]\n",
            " [0.98376307 0.84756929 0.79707898]]\n",
            "[[1 6 3]\n",
            " [6 6 5]]\n"
          ]
        }
      ]
    },
    {
      "cell_type": "code",
      "source": [
        "# Exploratory Data Analysis (EDA) is the practice of examining datasets to summarize their main characteristics,\n",
        "#  often using visual methods. It involves both graphical and non-graphical techniques and is used to maximize insight into a dataset,\n",
        "#  identify any underlying structures,\n",
        "# detect outliers or anomalies, and form hypotheses that could be tested in subsequent modeling steps.\n",
        "\n",
        "# Summary statistics using Pandas,\n",
        "# Visualizing distributions,\n",
        "# Identifying outliers and anomalies,\n",
        "# Understanding correlations and relationships,\n",
        "# Working with categorical variables."
      ],
      "metadata": {
        "id": "FN8MJ0xo6vuA"
      },
      "execution_count": null,
      "outputs": []
    },
    {
      "cell_type": "code",
      "source": [
        "import pandas as pd\n",
        "\n",
        "# Sample DataFrame\n",
        "data = {\n",
        "    \"ProductID\": [101, 102, 103, 104],\n",
        "    \"SalesAmount\": [200, 150, 400, 300],\n",
        "    \"Region\": [\"North\", \"South\", \"West\", \"East\"]\n",
        "}\n",
        "\n",
        "df = pd.DataFrame(data)\n",
        "\n",
        "# Summary statistics for numerical columns\n",
        "summary = df.describe()\n",
        "print(summary)"
      ],
      "metadata": {
        "colab": {
          "base_uri": "https://localhost:8080/"
        },
        "id": "K1IfwRKg6-2T",
        "outputId": "776f78ed-5c40-4c18-949e-8dfb6f4ca5a5"
      },
      "execution_count": 60,
      "outputs": [
        {
          "output_type": "stream",
          "name": "stdout",
          "text": [
            "        ProductID  SalesAmount\n",
            "count    4.000000     4.000000\n",
            "mean   102.500000   262.500000\n",
            "std      1.290994   110.867789\n",
            "min    101.000000   150.000000\n",
            "25%    101.750000   187.500000\n",
            "50%    102.500000   250.000000\n",
            "75%    103.250000   325.000000\n",
            "max    104.000000   400.000000\n"
          ]
        }
      ]
    },
    {
      "cell_type": "code",
      "source": [
        "mean_sales = df['SalesAmount'].mean()\n",
        "median_sales = df['SalesAmount'].median()\n",
        "std_sales = df['SalesAmount'].std()\n",
        "\n",
        "print(f\"Mean: {mean_sales}, Median: {median_sales}, Std: {std_sales}\")"
      ],
      "metadata": {
        "colab": {
          "base_uri": "https://localhost:8080/"
        },
        "id": "iqulrK3b7PJq",
        "outputId": "d77905ce-2540-45c6-cb17-5381536ff910"
      },
      "execution_count": 61,
      "outputs": [
        {
          "output_type": "stream",
          "name": "stdout",
          "text": [
            "Mean: 262.5, Median: 250.0, Std: 110.86778913041725\n"
          ]
        }
      ]
    },
    {
      "cell_type": "code",
      "source": [
        "# Histograms\n",
        "\n",
        "import matplotlib.pyplot as plt\n",
        "\n",
        "# Sample DataFrame\n",
        "import pandas as pd\n",
        "data = {'SalesAmount': [200, 150, 400, 300, 250, 350, 450, 500]}\n",
        "df = pd.DataFrame(data)\n",
        "\n",
        "# Plotting a histogram of SalesAmount\n",
        "plt.hist(df['SalesAmount'], bins=5, color='blue', edgecolor='black')\n",
        "plt.title('Sales Amount Distribution')\n",
        "plt.xlabel('Sales Amount')\n",
        "plt.ylabel('Frequency')\n",
        "plt.show()"
      ],
      "metadata": {
        "colab": {
          "base_uri": "https://localhost:8080/",
          "height": 472
        },
        "id": "3JKtXOkr7W2K",
        "outputId": "fec58111-1194-4792-be55-92995d56449f"
      },
      "execution_count": 62,
      "outputs": [
        {
          "output_type": "display_data",
          "data": {
            "text/plain": [
              "<Figure size 640x480 with 1 Axes>"
            ],
            "image/png": "[encoded data removed]"
          },
          "metadata": {}
        }
      ]
    },
    {
      "cell_type": "code",
      "source": [
        "# Box Plots\n",
        "import seaborn as sns\n",
        "\n",
        "# Box plot for SalesAmount\n",
        "sns.boxplot(x=df['SalesAmount'])\n",
        "plt.title('Box Plot of Sales Amount')\n",
        "#Box plots are particularly useful for detecting outliers, which are points that lie far outside the rest of the data.\n",
        "plt.show()"
      ],
      "metadata": {
        "colab": {
          "base_uri": "https://localhost:8080/",
          "height": 472
        },
        "id": "2Ks36s0-7nEF",
        "outputId": "57937c79-4b0a-4691-bc8f-e8d0d90772b1"
      },
      "execution_count": 63,
      "outputs": [
        {
          "output_type": "display_data",
          "data": {
            "text/plain": [
              "<Figure size 640x480 with 1 Axes>"
            ],
            "image/png": "[encoded data removed]"
          },
          "metadata": {}
        }
      ]
    },
    {
      "cell_type": "code",
      "source": [
        "# Scatter Plots -  visualizes potential correlations between two variables.\n",
        "\n",
        "\n",
        "# Scatter plot of SalesAmount vs another variable (e.g., ProductID)\n",
        "df['ProductID'] = [101, 102, 103, 104, 105, 106, 107, 108]\n",
        "plt.scatter(df['ProductID'], df['SalesAmount'], color='green')\n",
        "plt.title('ProductID vs SalesAmount')\n",
        "plt.xlabel('ProductID')\n",
        "plt.ylabel('Sales Amount')\n",
        "plt.show()"
      ],
      "metadata": {
        "colab": {
          "base_uri": "https://localhost:8080/",
          "height": 472
        },
        "id": "lSvV22jo7yeS",
        "outputId": "232a57e8-5516-40ac-f131-e8a7a635f422"
      },
      "execution_count": 65,
      "outputs": [
        {
          "output_type": "display_data",
          "data": {
            "text/plain": [
              "<Figure size 640x480 with 1 Axes>"
            ],
            "image/png": "[encoded data removed]"
          },
          "metadata": {}
        }
      ]
    },
    {
      "cell_type": "code",
      "source": [
        "# Pair Plots - visualize pairwise relationships between multiple variables in the dataset\n",
        "\n",
        "# Pair plot of the numerical columns in the dataset\n",
        "sns.pairplot(df)\n",
        "plt.show()"
      ],
      "metadata": {
        "colab": {
          "base_uri": "https://localhost:8080/",
          "height": 513
        },
        "id": "jhEWBfGU8T1J",
        "outputId": "454be1aa-25c7-4ff9-a602-c28e1357c0e1"
      },
      "execution_count": 66,
      "outputs": [
        {
          "output_type": "display_data",
          "data": {
            "text/plain": [
              "<Figure size 500x500 with 6 Axes>"
            ],
            "image/png": "[encoded data removed]"
          },
          "metadata": {}
        }
      ]
    },
    {
      "cell_type": "code",
      "source": [
        "# Heatmaps for Correlation -  visual representation of a correlation matrix that shows the strength of relationships between numerical variables\n",
        "\n",
        "# Correlation matrix\n",
        "corr_matrix = df.corr()\n",
        "# Heatmap of the correlation matrix\n",
        "sns.heatmap(corr_matrix, annot=True, cmap='coolwarm')\n",
        "plt.title('Correlation Heatmap')\n",
        "plt.show()"
      ],
      "metadata": {
        "colab": {
          "base_uri": "https://localhost:8080/",
          "height": 452
        },
        "id": "uUdizFbi8hlD",
        "outputId": "b45326f5-20b0-4eed-d5e4-2cf1345831a2"
      },
      "execution_count": 67,
      "outputs": [
        {
          "output_type": "display_data",
          "data": {
            "text/plain": [
              "<Figure size 640x480 with 2 Axes>"
            ],
            "image/png": "[encoded data removed]"
          },
          "metadata": {}
        }
      ]
    },
    {
      "cell_type": "code",
      "source": [
        "# Data Cleaning\n",
        "#   Handling outliers,\n",
        "#   Removing duplicates,\n",
        "#   Handling inconsistent and incorrect data,\n",
        "#   Working with text data,\n",
        "#   Normalizing and transforming data."
      ],
      "metadata": {
        "id": "oXxgLWxU9NXF"
      },
      "execution_count": null,
      "outputs": []
    },
    {
      "cell_type": "code",
      "source": [
        "import seaborn as sns\n",
        "import pandas as pd\n",
        "\n",
        "# Sample DataFrame\n",
        "data = {'SalesAmount': [200, 150, 400, 300, 250, 350, 450, 500, 1000]}\n",
        "df = pd.DataFrame(data)\n",
        "\n",
        "# Box plot to detect outliers\n",
        "sns.boxplot(x=df['SalesAmount'])"
      ],
      "metadata": {
        "colab": {
          "base_uri": "https://localhost:8080/",
          "height": 466
        },
        "id": "WtEUg0pH9hRc",
        "outputId": "d6b0b7e8-20ee-463b-ba4d-ef6889cd3272"
      },
      "execution_count": 68,
      "outputs": [
        {
          "output_type": "execute_result",
          "data": {
            "text/plain": [
              "<Axes: xlabel='SalesAmount'>"
            ]
          },
          "metadata": {},
          "execution_count": 68
        },
        {
          "output_type": "display_data",
          "data": {
            "text/plain": [
              "<Figure size 640x480 with 1 Axes>"
            ],
            "image/png": "[encoded data removed]"
          },
          "metadata": {}
        }
      ]
    },
    {
      "cell_type": "code",
      "source": [
        "from scipy import stats\n",
        "\n",
        "# Calculate Z-scores\n",
        "df['Z_Score'] = stats.zscore(df['SalesAmount'])\n",
        "\n",
        "# Filter out outliers (Z-score > 3 or < -3)\n",
        "df_outliers = df[(df['Z_Score'] > 3) | (df['Z_Score'] < -3)]\n",
        "print(df_outliers)"
      ],
      "metadata": {
        "colab": {
          "base_uri": "https://localhost:8080/"
        },
        "id": "nyena8uM9n7Z",
        "outputId": "0bf7aa89-3825-4122-f14e-87b110f45a6c"
      },
      "execution_count": 69,
      "outputs": [
        {
          "output_type": "stream",
          "name": "stdout",
          "text": [
            "Empty DataFrame\n",
            "Columns: [SalesAmount, Z_Score]\n",
            "Index: []\n"
          ]
        }
      ]
    },
    {
      "cell_type": "code",
      "source": [
        "# Remove outliers: If the outliers are likely to distort the analysis and are not meaningful.\n",
        "\n",
        "df_cleaned = df[(df['Z_Score'] <= 3) & (df['Z_Score'] >= -3)]"
      ],
      "metadata": {
        "id": "HOerP0KB91_l"
      },
      "execution_count": 70,
      "outputs": []
    },
    {
      "cell_type": "code",
      "source": [
        "# Cap or clip outliers: Replace outliers with a threshold value.\n",
        "\n",
        "# Cap the values at 99th percentile\n",
        "threshold = df['SalesAmount'].quantile(0.99)\n",
        "df['SalesAmount'] = df['SalesAmount'].apply(lambda x: min(x, threshold))"
      ],
      "metadata": {
        "id": "FoQpEfKd-HvE"
      },
      "execution_count": 71,
      "outputs": []
    },
    {
      "cell_type": "code",
      "source": [
        "# Sample DataFrame with duplicates\n",
        "data = {'ProductID': [101, 102, 103, 101, 104, 102],\n",
        "        'SalesAmount': [200, 150, 400, 200, 300, 150]}\n",
        "df = pd.DataFrame(data)\n",
        "\n",
        "# Detect duplicates\n",
        "duplicates = df.duplicated()\n",
        "print(duplicates)"
      ],
      "metadata": {
        "colab": {
          "base_uri": "https://localhost:8080/"
        },
        "id": "CIdG1REZ-XBV",
        "outputId": "6f3762fc-b452-40e8-e57f-6e97908b3477"
      },
      "execution_count": 80,
      "outputs": [
        {
          "output_type": "stream",
          "name": "stdout",
          "text": [
            "0    False\n",
            "1    False\n",
            "2    False\n",
            "3     True\n",
            "4    False\n",
            "5     True\n",
            "dtype: bool\n"
          ]
        }
      ]
    },
    {
      "cell_type": "code",
      "source": [
        "# Remove duplicates\n",
        "df_no_duplicates = df.drop_duplicates()\n",
        "print(df_no_duplicates)"
      ],
      "metadata": {
        "colab": {
          "base_uri": "https://localhost:8080/"
        },
        "id": "kUSzwYjk-ZpZ",
        "outputId": "25c05bd2-0ef1-4ad8-e50a-7b0085d6e053"
      },
      "execution_count": 73,
      "outputs": [
        {
          "output_type": "stream",
          "name": "stdout",
          "text": [
            "   ProductID  SalesAmount\n",
            "0        101          200\n",
            "1        102          150\n",
            "2        103          400\n",
            "4        104          300\n"
          ]
        }
      ]
    },
    {
      "cell_type": "code",
      "source": [
        "# Remove duplicates based on 'ProductID' column\n",
        "df_no_duplicates = df.drop_duplicates(subset=['ProductID'])"
      ],
      "metadata": {
        "id": "q3bIY6Ey-tTK"
      },
      "execution_count": 74,
      "outputs": []
    },
    {
      "cell_type": "code",
      "source": [
        "# Sample DataFrame with incorrect data types\n",
        "data = {'ProductID': ['101', '102', '103'], 'Date': ['2024-01-01', '2024-02-01', '2024-03-01']}\n",
        "df = pd.DataFrame(data)\n",
        "\n",
        "# Convert ProductID to integer\n",
        "df['ProductID'] = df['ProductID'].astype(int)\n",
        "\n",
        "# Convert Date to datetime\n",
        "df['Date'] = pd.to_datetime(df['Date'])"
      ],
      "metadata": {
        "id": "l8FPoHhT-4vx"
      },
      "execution_count": 75,
      "outputs": []
    },
    {
      "cell_type": "code",
      "source": [
        "# # Handling Categorical Inconsistencies\n",
        "#Sample DataFrame with inconsistent categories\n",
        "data = {'Region': ['North', 'north', 'SOUTH', 'South']}\n",
        "df = pd.DataFrame(data)\n",
        "\n",
        "# Standardize the Region names to uppercase\n",
        "df['Region'] = df['Region'].str.upper()\n",
        "print(df)"
      ],
      "metadata": {
        "colab": {
          "base_uri": "https://localhost:8080/"
        },
        "id": "oOzWbQE5_HUM",
        "outputId": "452f2bee-43fe-4239-dde0-f8aec0c7c8af"
      },
      "execution_count": 76,
      "outputs": [
        {
          "output_type": "stream",
          "name": "stdout",
          "text": [
            "  Region\n",
            "0  NORTH\n",
            "1  NORTH\n",
            "2  SOUTH\n",
            "3  SOUTH\n"
          ]
        }
      ]
    },
    {
      "cell_type": "code",
      "source": [
        "# Working with Text Data\n",
        "# Removing Unwanted Characters\n",
        "\n",
        "# Sample DataFrame with messy text\n",
        "data = {'Product': [' Product-A  ', ' Product-B ', 'Product-C']}\n",
        "df = pd.DataFrame(data)\n",
        "\n",
        "# Strip leading/trailing spaces\n",
        "df['Product'] = df['Product'].str.strip()\n"
      ],
      "metadata": {
        "id": "W8eVbkAx_T3b"
      },
      "execution_count": 77,
      "outputs": []
    },
    {
      "cell_type": "code",
      "source": [
        "# Replacing Text Patterns\n",
        "# Replace '-' with space\n",
        "df['Product'] = df['Product'].str.replace('-', ' ')"
      ],
      "metadata": {
        "id": "p4m775p1_jVV"
      },
      "execution_count": 78,
      "outputs": []
    },
    {
      "cell_type": "code",
      "source": [
        "# Normalizing and Transforming Data\n",
        "\n",
        "# Min-Max Scaling -  transforms the data to a range between 0 and 1.\n",
        "from sklearn.preprocessing import MinMaxScaler\n",
        "\n",
        "scaler = MinMaxScaler()\n",
        "df[['SalesAmount']] = scaler.fit_transform(df[['SalesAmount']])\n",
        "print(df)"
      ],
      "metadata": {
        "colab": {
          "base_uri": "https://localhost:8080/"
        },
        "id": "mkM3oSQQ_zqU",
        "outputId": "7af45b11-8c18-4800-d4f3-2699ed144855"
      },
      "execution_count": 81,
      "outputs": [
        {
          "output_type": "stream",
          "name": "stdout",
          "text": [
            "   ProductID  SalesAmount\n",
            "0        101          0.2\n",
            "1        102          0.0\n",
            "2        103          1.0\n",
            "3        101          0.2\n",
            "4        104          0.6\n",
            "5        102          0.0\n"
          ]
        }
      ]
    },
    {
      "cell_type": "code",
      "source": [
        "# Log transformation - useful for handling data with a long tail or skewed distribution.\n",
        "# Apply log transformation\n",
        "df['LogSalesAmount'] = np.log(df['SalesAmount'] + 1)"
      ],
      "metadata": {
        "id": "JGaRF1-wAeMc"
      },
      "execution_count": 82,
      "outputs": []
    },
    {
      "cell_type": "code",
      "source": [
        "# Time Series Data  -  time series is a sequence of data points\n",
        "# collected or recorded at successive points in time, often at uniform intervals (such as hourly, daily, monthly, or yearly).\n",
        "# The order of the data points matters, and analyzing how the data changes over time is often a central focus.\n",
        "\n",
        "# Working with datetime objects,\n",
        "# Time-based indexing and slicing,\n",
        "# Resampling and aggregation,\n",
        "# Handling missing time data,\n",
        "# Rolling and expanding windows,\n",
        "# Time shifts and differences.\n",
        "\n",
        "# Key Characteristics of Time Series Data:\n",
        "# Temporal Ordering: Time series data is ordered by time, and the sequence in which data points occur is crucial.\n",
        "# Frequency: Time series data can be recorded at various intervals, such as:\n",
        "# Hourly: Sensor readings from a machine every hour.\n",
        "# Daily: Stock prices at the end of each trading day.\n",
        "# Monthly: Monthly sales data for a retail store.\n",
        "\n",
        "# Trend and Seasonality: Time series data often exhibits trends (long-term upward or downward movements) and seasonality (recurring patterns over time)."
      ],
      "metadata": {
        "id": "pQ2nLgJzA_3u"
      },
      "execution_count": null,
      "outputs": []
    },
    {
      "cell_type": "code",
      "source": [
        "import pandas as pd\n",
        "\n",
        "# Sample data with date strings\n",
        "data = {'Date': ['2024-01-01', '2024-01-02', '2024-01-03'], 'SalesAmount': [200, 150, 300]}\n",
        "df = pd.DataFrame(data)\n",
        "\n",
        "# Convert the 'Date' column to datetime\n",
        "df['Date'] = pd.to_datetime(df['Date'])\n",
        "print(df.dtypes)"
      ],
      "metadata": {
        "colab": {
          "base_uri": "https://localhost:8080/"
        },
        "id": "YsZ2uf3dBeuL",
        "outputId": "6b31a593-e7a0-4007-f18c-d5591ba6fecc"
      },
      "execution_count": 83,
      "outputs": [
        {
          "output_type": "stream",
          "name": "stdout",
          "text": [
            "Date           datetime64[ns]\n",
            "SalesAmount             int64\n",
            "dtype: object\n"
          ]
        }
      ]
    },
    {
      "cell_type": "code",
      "source": [
        "# Extracting Date Components\n",
        "# Extract year, month, and day from the Date column\n",
        "df['Year'] = df['Date'].dt.year\n",
        "df['Month'] = df['Date'].dt.month\n",
        "df['Day'] = df['Date'].dt.day\n",
        "print(df)"
      ],
      "metadata": {
        "colab": {
          "base_uri": "https://localhost:8080/"
        },
        "id": "_g5_ZboXCRFI",
        "outputId": "02bc31d3-6404-4f8c-be60-c56516d48c57"
      },
      "execution_count": 84,
      "outputs": [
        {
          "output_type": "stream",
          "name": "stdout",
          "text": [
            "        Date  SalesAmount  Year  Month  Day\n",
            "0 2024-01-01          200  2024      1    1\n",
            "1 2024-01-02          150  2024      1    2\n",
            "2 2024-01-03          300  2024      1    3\n"
          ]
        }
      ]
    },
    {
      "cell_type": "code",
      "source": [
        "# Set the 'Date' column as the index\n",
        "df.set_index('Date', inplace=True)\n",
        "print(df)"
      ],
      "metadata": {
        "colab": {
          "base_uri": "https://localhost:8080/"
        },
        "id": "wNuAxxNHGLHJ",
        "outputId": "a28b9eee-bc73-42af-f115-ce2539343260"
      },
      "execution_count": 85,
      "outputs": [
        {
          "output_type": "stream",
          "name": "stdout",
          "text": [
            "            SalesAmount  Year  Month  Day\n",
            "Date                                     \n",
            "2024-01-01          200  2024      1    1\n",
            "2024-01-02          150  2024      1    2\n",
            "2024-01-03          300  2024      1    3\n"
          ]
        }
      ]
    },
    {
      "cell_type": "code",
      "source": [
        "# Slicing Time Series\n",
        "\n",
        "# Slice data for a specific date\n",
        "df_slice = df.loc['2024-01-02']\n",
        "print(df_slice)\n",
        "\n",
        "# Slice data for a date range\n",
        "df_range = df.loc['2024-01-01':'2024-01-03']\n",
        "print(df_range)"
      ],
      "metadata": {
        "colab": {
          "base_uri": "https://localhost:8080/"
        },
        "id": "4yjwOwp9GVau",
        "outputId": "94a4bd37-253a-42fd-88fc-6313751a5ff7"
      },
      "execution_count": 86,
      "outputs": [
        {
          "output_type": "stream",
          "name": "stdout",
          "text": [
            "SalesAmount     150\n",
            "Year           2024\n",
            "Month             1\n",
            "Day               2\n",
            "Name: 2024-01-02 00:00:00, dtype: int64\n",
            "            SalesAmount  Year  Month  Day\n",
            "Date                                     \n",
            "2024-01-01          200  2024      1    1\n",
            "2024-01-02          150  2024      1    2\n",
            "2024-01-03          300  2024      1    3\n"
          ]
        }
      ]
    },
    {
      "cell_type": "code",
      "source": [
        "# Resampling-  involves changing the frequency of your time series data\n",
        "\n",
        "# Resample daily data to monthly data and calculate the sum of sales\n",
        "df_resampled = df.resample('M').sum()\n",
        "print(df_resampled)"
      ],
      "metadata": {
        "colab": {
          "base_uri": "https://localhost:8080/"
        },
        "id": "EDw7ZYBuGujV",
        "outputId": "562a76e1-584a-48e5-e447-096296d62f98"
      },
      "execution_count": 87,
      "outputs": [
        {
          "output_type": "stream",
          "name": "stdout",
          "text": [
            "            SalesAmount  Year  Month  Day\n",
            "Date                                     \n",
            "2024-01-31          650  6072      3    6\n"
          ]
        },
        {
          "output_type": "stream",
          "name": "stderr",
          "text": [
            "<ipython-input-87-dda3c2481a6a>:4: FutureWarning: 'M' is deprecated and will be removed in a future version, please use 'ME' instead.\n",
            "  df_resampled = df.resample('M').sum()\n"
          ]
        }
      ]
    },
    {
      "cell_type": "code",
      "source": [
        "# Resample daily data to weekly and calculate the mean sales\n",
        "df_weekly_mean = df.resample('W').mean()\n",
        "print(df_weekly_mean)"
      ],
      "metadata": {
        "colab": {
          "base_uri": "https://localhost:8080/"
        },
        "id": "mzfgkwZeHnPI",
        "outputId": "f766e252-99f3-4e2c-813a-9b4b59f268f6"
      },
      "execution_count": 88,
      "outputs": [
        {
          "output_type": "stream",
          "name": "stdout",
          "text": [
            "            SalesAmount    Year  Month  Day\n",
            "Date                                       \n",
            "2024-01-07   216.666667  2024.0    1.0  2.0\n"
          ]
        }
      ]
    },
    {
      "cell_type": "code",
      "source": [
        "# Filling Missing Time Periods\n",
        "\n",
        "# Convert to daily frequency and fill missing dates\n",
        "df_filled = df.asfreq('D')\n",
        "print(df_filled)"
      ],
      "metadata": {
        "colab": {
          "base_uri": "https://localhost:8080/"
        },
        "id": "qAys0lCKIkgA",
        "outputId": "c054033e-5295-4ef0-e820-eb93f95f87eb"
      },
      "execution_count": 89,
      "outputs": [
        {
          "output_type": "stream",
          "name": "stdout",
          "text": [
            "            SalesAmount  Year  Month  Day\n",
            "Date                                     \n",
            "2024-01-01          200  2024      1    1\n",
            "2024-01-02          150  2024      1    2\n",
            "2024-01-03          300  2024      1    3\n"
          ]
        }
      ]
    },
    {
      "cell_type": "code",
      "source": [
        "# Interpolate missing values in the SalesAmount column\n",
        "df_interpolated = df_filled.interpolate()\n",
        "print(df_interpolated)"
      ],
      "metadata": {
        "colab": {
          "base_uri": "https://localhost:8080/"
        },
        "id": "pPgNqVL1ItvV",
        "outputId": "2dc143e3-7bd8-46ca-9072-32a6118549f0"
      },
      "execution_count": 90,
      "outputs": [
        {
          "output_type": "stream",
          "name": "stdout",
          "text": [
            "            SalesAmount  Year  Month  Day\n",
            "Date                                     \n",
            "2024-01-01          200  2024      1    1\n",
            "2024-01-02          150  2024      1    2\n",
            "2024-01-03          300  2024      1    3\n"
          ]
        }
      ]
    },
    {
      "cell_type": "code",
      "source": [
        "# Rolling and expanding windows are techniques used to calculate statistics over a moving window of time.\n",
        "\n",
        "import pandas as pd\n",
        "\n",
        "data = {\n",
        "    'Date': ['2024-01-01', '2024-01-15', '2024-01-31', '2024-02-01'],\n",
        "    'SalesAmount': [200, 300, 400, 500]\n",
        "}\n",
        "\n",
        "df = pd.DataFrame(data)\n",
        "# Convert Date column to datetime\n",
        "df['Date'] = pd.to_datetime(df['Date'])\n",
        "\n",
        "print(df)\n",
        "\n",
        "# Calculate a 3-day moving average of SalesAmount\n",
        "df['3-day MA'] = df['SalesAmount'].rolling(window=3).mean()\n",
        "print(df)"
      ],
      "metadata": {
        "colab": {
          "base_uri": "https://localhost:8080/"
        },
        "id": "e96QN0UJI3ym",
        "outputId": "31a94310-f249-42d8-8ed8-4ecb2723496c"
      },
      "execution_count": 92,
      "outputs": [
        {
          "output_type": "stream",
          "name": "stdout",
          "text": [
            "        Date  SalesAmount\n",
            "0 2024-01-01          200\n",
            "1 2024-01-15          300\n",
            "2 2024-01-31          400\n",
            "3 2024-02-01          500\n",
            "        Date  SalesAmount  3-day MA\n",
            "0 2024-01-01          200       NaN\n",
            "1 2024-01-15          300       NaN\n",
            "2 2024-01-31          400     300.0\n",
            "3 2024-02-01          500     400.0\n"
          ]
        }
      ]
    },
    {
      "cell_type": "code",
      "source": [
        "# Expanding windows calculate metrics over all observations up to the current point.\n",
        "\n",
        "# Calculate expanding sum of SalesAmount\n",
        "df['Expanding Sum'] = df['SalesAmount'].expanding().sum()\n",
        "print(df)"
      ],
      "metadata": {
        "colab": {
          "base_uri": "https://localhost:8080/"
        },
        "id": "GeNxrHAFJwn0",
        "outputId": "1a0ec911-5bf6-4c0a-a70f-d821cd049f62"
      },
      "execution_count": 93,
      "outputs": [
        {
          "output_type": "stream",
          "name": "stdout",
          "text": [
            "        Date  SalesAmount  3-day MA  Expanding Sum\n",
            "0 2024-01-01          200       NaN          200.0\n",
            "1 2024-01-15          300       NaN          500.0\n",
            "2 2024-01-31          400     300.0          900.0\n",
            "3 2024-02-01          500     400.0         1400.0\n"
          ]
        }
      ]
    },
    {
      "cell_type": "code",
      "source": [
        "# Time shifting refers to moving data points forward or backward along the time axis.\n",
        "\n",
        "import pandas as pd\n",
        "\n",
        "# Sample time series data\n",
        "data = {\n",
        "    'Date': pd.date_range(start='2024-01-01', periods=5, freq='D'),\n",
        "    'SalesAmount': [200, 250, 300, 350, 400]\n",
        "}\n",
        "df = pd.DataFrame(data)\n",
        "df.set_index('Date', inplace=True)\n",
        "\n",
        "# Shift the data by 1 period (moving data forward)\n",
        "df['Shifted_Sales'] = df['SalesAmount'].shift(1)\n",
        "print(df)\n",
        "\n",
        "# Forward Shifts: Positive numbers (e.g., shift(1)) move data forward.\n",
        "# Backward Shifts: Negative numbers (e.g., shift(-1)) move data backward."
      ],
      "metadata": {
        "colab": {
          "base_uri": "https://localhost:8080/"
        },
        "id": "HNw9CjKgKAbh",
        "outputId": "61551a5f-da09-46e7-86eb-1ae1825e7729"
      },
      "execution_count": 94,
      "outputs": [
        {
          "output_type": "stream",
          "name": "stdout",
          "text": [
            "            SalesAmount  Shifted_Sales\n",
            "Date                                  \n",
            "2024-01-01          200            NaN\n",
            "2024-01-02          250          200.0\n",
            "2024-01-03          300          250.0\n",
            "2024-01-04          350          300.0\n",
            "2024-01-05          400          350.0\n"
          ]
        }
      ]
    },
    {
      "cell_type": "code",
      "source": [
        "# The diff() function calculates the difference between consecutive time periods.\n",
        "\n",
        "# Calculate the difference between consecutive periods\n",
        "df['Sales_Difference'] = df['SalesAmount'].diff()\n",
        "print(df)\n",
        "\n",
        "# First Difference: diff(1) calculates the difference between the current and previous period (default behavior).\n",
        "# Higher-Order Differences: You can calculate differences over longer periods by specifying an argument (e.g., diff(2) for second differences)."
      ],
      "metadata": {
        "colab": {
          "base_uri": "https://localhost:8080/"
        },
        "id": "GXpPmLtuKjQ8",
        "outputId": "03af18d3-baf5-48b9-ffbb-9e6f3ff29929"
      },
      "execution_count": 95,
      "outputs": [
        {
          "output_type": "stream",
          "name": "stdout",
          "text": [
            "            SalesAmount  Shifted_Sales  Sales_Difference\n",
            "Date                                                    \n",
            "2024-01-01          200            NaN               NaN\n",
            "2024-01-02          250          200.0              50.0\n",
            "2024-01-03          300          250.0              50.0\n",
            "2024-01-04          350          300.0              50.0\n",
            "2024-01-05          400          350.0              50.0\n"
          ]
        }
      ]
    },
    {
      "cell_type": "code",
      "source": [
        "# Calculate the percentage change between periods- useful for measuring relative changes over time\n",
        "df['Pct_Change'] = df['SalesAmount'].pct_change() * 100\n",
        "print(df)"
      ],
      "metadata": {
        "colab": {
          "base_uri": "https://localhost:8080/"
        },
        "id": "A3uhEPgXLBIB",
        "outputId": "13b9c895-8cc1-4e0b-eeba-bd7a60794158"
      },
      "execution_count": 96,
      "outputs": [
        {
          "output_type": "stream",
          "name": "stdout",
          "text": [
            "            SalesAmount  Shifted_Sales  Sales_Difference  Pct_Change\n",
            "Date                                                                \n",
            "2024-01-01          200            NaN               NaN         NaN\n",
            "2024-01-02          250          200.0              50.0   25.000000\n",
            "2024-01-03          300          250.0              50.0   20.000000\n",
            "2024-01-04          350          300.0              50.0   16.666667\n",
            "2024-01-05          400          350.0              50.0   14.285714\n"
          ]
        }
      ]
    },
    {
      "cell_type": "code",
      "source": [
        "# Moving Averages: You can combine shifting with rolling functions to calculate moving averages,\n",
        "# a key technique in smoothing out time series data and identifying trends.\n",
        "\n",
        "# Calculate a 3-day moving average\n",
        "df['Moving_Avg'] = df['SalesAmount'].rolling(window=3).mean()\n",
        "print(df)"
      ],
      "metadata": {
        "colab": {
          "base_uri": "https://localhost:8080/"
        },
        "id": "YAvkND0vLW3u",
        "outputId": "f22632e6-5879-4dbd-fbb4-07453acb3b70"
      },
      "execution_count": 97,
      "outputs": [
        {
          "output_type": "stream",
          "name": "stdout",
          "text": [
            "            SalesAmount  Shifted_Sales  Sales_Difference  Pct_Change  \\\n",
            "Date                                                                   \n",
            "2024-01-01          200            NaN               NaN         NaN   \n",
            "2024-01-02          250          200.0              50.0   25.000000   \n",
            "2024-01-03          300          250.0              50.0   20.000000   \n",
            "2024-01-04          350          300.0              50.0   16.666667   \n",
            "2024-01-05          400          350.0              50.0   14.285714   \n",
            "\n",
            "            Moving_Avg  \n",
            "Date                    \n",
            "2024-01-01         NaN  \n",
            "2024-01-02         NaN  \n",
            "2024-01-03       250.0  \n",
            "2024-01-04       300.0  \n",
            "2024-01-05       350.0  \n"
          ]
        }
      ]
    }
  ]
}